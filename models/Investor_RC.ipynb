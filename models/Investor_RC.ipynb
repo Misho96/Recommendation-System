{
 "cells": [
  {
   "cell_type": "code",
   "execution_count": 1,
   "id": "690d089d",
   "metadata": {
    "ExecuteTime": {
     "end_time": "2024-06-22T09:57:02.488621Z",
     "start_time": "2024-06-22T09:57:02.484813Z"
    }
   },
   "outputs": [],
   "source": [
    "import numpy as np\n",
    "import matplotlib.pyplot as plt\n",
    "import pandas as pd\n",
    "import warnings\n",
    "warnings.filterwarnings(\"ignore\")"
   ]
  },
  {
   "cell_type": "code",
   "execution_count": 4,
   "id": "77e18136",
   "metadata": {
    "ExecuteTime": {
     "end_time": "2024-06-22T09:57:02.758617Z",
     "start_time": "2024-06-22T09:57:02.570621Z"
    }
   },
   "outputs": [
    {
     "ename": "SyntaxError",
     "evalue": "(unicode error) 'unicodeescape' codec can't decode bytes in position 2-3: truncated \\UXXXXXXXX escape (2829684950.py, line 1)",
     "output_type": "error",
     "traceback": [
      "\u001b[1;36m  Cell \u001b[1;32mIn[4], line 1\u001b[1;36m\u001b[0m\n\u001b[1;33m    df = pd.read_csv(\"C:\\Users\\Lenovo\\PycharmProjects\\Project\\Data\\crunchbase-investments.csv\", encoding='unicode_escape',low_memory=False)\u001b[0m\n\u001b[1;37m                                                                                              ^\u001b[0m\n\u001b[1;31mSyntaxError\u001b[0m\u001b[1;31m:\u001b[0m (unicode error) 'unicodeescape' codec can't decode bytes in position 2-3: truncated \\UXXXXXXXX escape\n"
     ]
    }
   ],
   "source": [
    "df = pd.read_csv(\"C:\\Users\\Lenovo\\PycharmProjects\\Project\\Data\\crunchbase-investments.csv\", encoding='unicode_escape',low_memory=False)\n",
    "df.info()"
   ]
  },
  {
   "cell_type": "code",
   "execution_count": 6,
   "id": "c2f89ffb",
   "metadata": {
    "ExecuteTime": {
     "end_time": "2024-06-22T09:57:02.780935Z",
     "start_time": "2024-06-22T09:57:02.759615Z"
    }
   },
   "outputs": [
    {
     "data": {
      "text/html": [
       "<div>\n",
       "<style scoped>\n",
       "    .dataframe tbody tr th:only-of-type {\n",
       "        vertical-align: middle;\n",
       "    }\n",
       "\n",
       "    .dataframe tbody tr th {\n",
       "        vertical-align: top;\n",
       "    }\n",
       "\n",
       "    .dataframe thead th {\n",
       "        text-align: right;\n",
       "    }\n",
       "</style>\n",
       "<table border=\"1\" class=\"dataframe\">\n",
       "  <thead>\n",
       "    <tr style=\"text-align: right;\">\n",
       "      <th></th>\n",
       "      <th>company_permalink</th>\n",
       "      <th>company_name</th>\n",
       "      <th>company_category_code</th>\n",
       "      <th>company_country_code</th>\n",
       "      <th>company_state_code</th>\n",
       "      <th>company_region</th>\n",
       "      <th>company_city</th>\n",
       "      <th>investor_permalink</th>\n",
       "      <th>investor_name</th>\n",
       "      <th>investor_category_code</th>\n",
       "      <th>investor_country_code</th>\n",
       "      <th>investor_state_code</th>\n",
       "      <th>investor_region</th>\n",
       "      <th>investor_city</th>\n",
       "      <th>funding_round_type</th>\n",
       "      <th>funded_at</th>\n",
       "      <th>funded_month</th>\n",
       "      <th>funded_quarter</th>\n",
       "      <th>funded_year</th>\n",
       "      <th>raised_amount_usd</th>\n",
       "    </tr>\n",
       "  </thead>\n",
       "  <tbody>\n",
       "    <tr>\n",
       "      <th>0</th>\n",
       "      <td>/company/advercar</td>\n",
       "      <td>AdverCar</td>\n",
       "      <td>advertising</td>\n",
       "      <td>USA</td>\n",
       "      <td>CA</td>\n",
       "      <td>SF Bay</td>\n",
       "      <td>San Francisco</td>\n",
       "      <td>/company/1-800-flowers-com</td>\n",
       "      <td>1-800-FLOWERS.COM</td>\n",
       "      <td>NaN</td>\n",
       "      <td>USA</td>\n",
       "      <td>NY</td>\n",
       "      <td>New York</td>\n",
       "      <td>New York</td>\n",
       "      <td>series-a</td>\n",
       "      <td>2012-10-30</td>\n",
       "      <td>2012-10</td>\n",
       "      <td>2012-Q4</td>\n",
       "      <td>2012.0</td>\n",
       "      <td>2000000.0</td>\n",
       "    </tr>\n",
       "    <tr>\n",
       "      <th>1</th>\n",
       "      <td>/company/launchgram</td>\n",
       "      <td>LaunchGram</td>\n",
       "      <td>news</td>\n",
       "      <td>USA</td>\n",
       "      <td>CA</td>\n",
       "      <td>SF Bay</td>\n",
       "      <td>Mountain View</td>\n",
       "      <td>/company/10xelerator</td>\n",
       "      <td>10Xelerator</td>\n",
       "      <td>finance</td>\n",
       "      <td>USA</td>\n",
       "      <td>OH</td>\n",
       "      <td>Columbus</td>\n",
       "      <td>Columbus</td>\n",
       "      <td>other</td>\n",
       "      <td>2012-01-23</td>\n",
       "      <td>2012-01</td>\n",
       "      <td>2012-Q1</td>\n",
       "      <td>2012.0</td>\n",
       "      <td>20000.0</td>\n",
       "    </tr>\n",
       "    <tr>\n",
       "      <th>2</th>\n",
       "      <td>/company/utap</td>\n",
       "      <td>uTaP</td>\n",
       "      <td>messaging</td>\n",
       "      <td>USA</td>\n",
       "      <td>NaN</td>\n",
       "      <td>United States - Other</td>\n",
       "      <td>NaN</td>\n",
       "      <td>/company/10xelerator</td>\n",
       "      <td>10Xelerator</td>\n",
       "      <td>finance</td>\n",
       "      <td>USA</td>\n",
       "      <td>OH</td>\n",
       "      <td>Columbus</td>\n",
       "      <td>Columbus</td>\n",
       "      <td>other</td>\n",
       "      <td>2012-01-01</td>\n",
       "      <td>2012-01</td>\n",
       "      <td>2012-Q1</td>\n",
       "      <td>2012.0</td>\n",
       "      <td>20000.0</td>\n",
       "    </tr>\n",
       "    <tr>\n",
       "      <th>3</th>\n",
       "      <td>/company/zoopshop</td>\n",
       "      <td>ZoopShop</td>\n",
       "      <td>software</td>\n",
       "      <td>USA</td>\n",
       "      <td>OH</td>\n",
       "      <td>Columbus</td>\n",
       "      <td>columbus</td>\n",
       "      <td>/company/10xelerator</td>\n",
       "      <td>10Xelerator</td>\n",
       "      <td>finance</td>\n",
       "      <td>USA</td>\n",
       "      <td>OH</td>\n",
       "      <td>Columbus</td>\n",
       "      <td>Columbus</td>\n",
       "      <td>angel</td>\n",
       "      <td>2012-02-15</td>\n",
       "      <td>2012-02</td>\n",
       "      <td>2012-Q1</td>\n",
       "      <td>2012.0</td>\n",
       "      <td>20000.0</td>\n",
       "    </tr>\n",
       "    <tr>\n",
       "      <th>4</th>\n",
       "      <td>/company/efuneral</td>\n",
       "      <td>eFuneral</td>\n",
       "      <td>web</td>\n",
       "      <td>USA</td>\n",
       "      <td>OH</td>\n",
       "      <td>Cleveland</td>\n",
       "      <td>Cleveland</td>\n",
       "      <td>/company/10xelerator</td>\n",
       "      <td>10Xelerator</td>\n",
       "      <td>finance</td>\n",
       "      <td>USA</td>\n",
       "      <td>OH</td>\n",
       "      <td>Columbus</td>\n",
       "      <td>Columbus</td>\n",
       "      <td>other</td>\n",
       "      <td>2011-09-08</td>\n",
       "      <td>2011-09</td>\n",
       "      <td>2011-Q3</td>\n",
       "      <td>2011.0</td>\n",
       "      <td>20000.0</td>\n",
       "    </tr>\n",
       "    <tr>\n",
       "      <th>...</th>\n",
       "      <td>...</td>\n",
       "      <td>...</td>\n",
       "      <td>...</td>\n",
       "      <td>...</td>\n",
       "      <td>...</td>\n",
       "      <td>...</td>\n",
       "      <td>...</td>\n",
       "      <td>...</td>\n",
       "      <td>...</td>\n",
       "      <td>...</td>\n",
       "      <td>...</td>\n",
       "      <td>...</td>\n",
       "      <td>...</td>\n",
       "      <td>...</td>\n",
       "      <td>...</td>\n",
       "      <td>...</td>\n",
       "      <td>...</td>\n",
       "      <td>...</td>\n",
       "      <td>...</td>\n",
       "      <td>...</td>\n",
       "    </tr>\n",
       "    <tr>\n",
       "      <th>52865</th>\n",
       "      <td>/company/garantia-data</td>\n",
       "      <td>Garantia Data</td>\n",
       "      <td>enterprise</td>\n",
       "      <td>USA</td>\n",
       "      <td>CA</td>\n",
       "      <td>SF Bay</td>\n",
       "      <td>Santa Clara</td>\n",
       "      <td>/person/zohar-gilon</td>\n",
       "      <td>Zohar Gilon</td>\n",
       "      <td>NaN</td>\n",
       "      <td>NaN</td>\n",
       "      <td>NaN</td>\n",
       "      <td>unknown</td>\n",
       "      <td>NaN</td>\n",
       "      <td>series-a</td>\n",
       "      <td>2012-08-08</td>\n",
       "      <td>2012-08</td>\n",
       "      <td>2012-Q3</td>\n",
       "      <td>2012.0</td>\n",
       "      <td>3800000.0</td>\n",
       "    </tr>\n",
       "    <tr>\n",
       "      <th>52866</th>\n",
       "      <td>/company/duda-mobile</td>\n",
       "      <td>DudaMobile</td>\n",
       "      <td>mobile</td>\n",
       "      <td>USA</td>\n",
       "      <td>CA</td>\n",
       "      <td>SF Bay</td>\n",
       "      <td>Palo Alto</td>\n",
       "      <td>/person/zohar-gilon</td>\n",
       "      <td>Zohar Gilon</td>\n",
       "      <td>NaN</td>\n",
       "      <td>NaN</td>\n",
       "      <td>NaN</td>\n",
       "      <td>unknown</td>\n",
       "      <td>NaN</td>\n",
       "      <td>series-c+</td>\n",
       "      <td>2013-04-08</td>\n",
       "      <td>2013-04</td>\n",
       "      <td>2013-Q2</td>\n",
       "      <td>2013.0</td>\n",
       "      <td>10300000.0</td>\n",
       "    </tr>\n",
       "    <tr>\n",
       "      <th>52867</th>\n",
       "      <td>/company/sitebrains</td>\n",
       "      <td>SiteBrains</td>\n",
       "      <td>software</td>\n",
       "      <td>USA</td>\n",
       "      <td>CA</td>\n",
       "      <td>SF Bay</td>\n",
       "      <td>San Francisco</td>\n",
       "      <td>/person/zohar-israel</td>\n",
       "      <td>zohar israel</td>\n",
       "      <td>NaN</td>\n",
       "      <td>NaN</td>\n",
       "      <td>NaN</td>\n",
       "      <td>unknown</td>\n",
       "      <td>NaN</td>\n",
       "      <td>angel</td>\n",
       "      <td>2010-08-01</td>\n",
       "      <td>2010-08</td>\n",
       "      <td>2010-Q3</td>\n",
       "      <td>2010.0</td>\n",
       "      <td>350000.0</td>\n",
       "    </tr>\n",
       "    <tr>\n",
       "      <th>52868</th>\n",
       "      <td>/company/comprehend-systems</td>\n",
       "      <td>Comprehend Systems</td>\n",
       "      <td>enterprise</td>\n",
       "      <td>USA</td>\n",
       "      <td>CA</td>\n",
       "      <td>SF Bay</td>\n",
       "      <td>Palo Alto</td>\n",
       "      <td>/person/zorba-lieberman</td>\n",
       "      <td>Zorba Lieberman</td>\n",
       "      <td>NaN</td>\n",
       "      <td>NaN</td>\n",
       "      <td>NaN</td>\n",
       "      <td>unknown</td>\n",
       "      <td>NaN</td>\n",
       "      <td>series-a</td>\n",
       "      <td>2013-07-11</td>\n",
       "      <td>2013-07</td>\n",
       "      <td>2013-Q3</td>\n",
       "      <td>2013.0</td>\n",
       "      <td>8400000.0</td>\n",
       "    </tr>\n",
       "    <tr>\n",
       "      <th>52869</th>\n",
       "      <td>/company/smartthings</td>\n",
       "      <td>SmartThings</td>\n",
       "      <td>mobile</td>\n",
       "      <td>USA</td>\n",
       "      <td>DC</td>\n",
       "      <td>unknown</td>\n",
       "      <td>Minneapolis</td>\n",
       "      <td>/person/zorik-gordon</td>\n",
       "      <td>Zorik Gordon</td>\n",
       "      <td>NaN</td>\n",
       "      <td>NaN</td>\n",
       "      <td>NaN</td>\n",
       "      <td>unknown</td>\n",
       "      <td>NaN</td>\n",
       "      <td>series-a</td>\n",
       "      <td>2012-12-04</td>\n",
       "      <td>2012-12</td>\n",
       "      <td>2012-Q4</td>\n",
       "      <td>2012.0</td>\n",
       "      <td>3000000.0</td>\n",
       "    </tr>\n",
       "  </tbody>\n",
       "</table>\n",
       "<p>52870 rows × 20 columns</p>\n",
       "</div>"
      ],
      "text/plain": [
       "                 company_permalink        company_name company_category_code  \\\n",
       "0                /company/advercar            AdverCar           advertising   \n",
       "1              /company/launchgram          LaunchGram                  news   \n",
       "2                    /company/utap                uTaP             messaging   \n",
       "3                /company/zoopshop            ZoopShop              software   \n",
       "4                /company/efuneral            eFuneral                   web   \n",
       "...                            ...                 ...                   ...   \n",
       "52865       /company/garantia-data       Garantia Data            enterprise   \n",
       "52866         /company/duda-mobile          DudaMobile                mobile   \n",
       "52867          /company/sitebrains          SiteBrains              software   \n",
       "52868  /company/comprehend-systems  Comprehend Systems            enterprise   \n",
       "52869         /company/smartthings         SmartThings                mobile   \n",
       "\n",
       "      company_country_code company_state_code         company_region  \\\n",
       "0                      USA                 CA                 SF Bay   \n",
       "1                      USA                 CA                 SF Bay   \n",
       "2                      USA                NaN  United States - Other   \n",
       "3                      USA                 OH               Columbus   \n",
       "4                      USA                 OH              Cleveland   \n",
       "...                    ...                ...                    ...   \n",
       "52865                  USA                 CA                 SF Bay   \n",
       "52866                  USA                 CA                 SF Bay   \n",
       "52867                  USA                 CA                 SF Bay   \n",
       "52868                  USA                 CA                 SF Bay   \n",
       "52869                  USA                 DC                unknown   \n",
       "\n",
       "        company_city          investor_permalink      investor_name  \\\n",
       "0      San Francisco  /company/1-800-flowers-com  1-800-FLOWERS.COM   \n",
       "1      Mountain View        /company/10xelerator        10Xelerator   \n",
       "2                NaN        /company/10xelerator        10Xelerator   \n",
       "3           columbus        /company/10xelerator        10Xelerator   \n",
       "4          Cleveland        /company/10xelerator        10Xelerator   \n",
       "...              ...                         ...                ...   \n",
       "52865    Santa Clara         /person/zohar-gilon        Zohar Gilon   \n",
       "52866      Palo Alto         /person/zohar-gilon        Zohar Gilon   \n",
       "52867  San Francisco        /person/zohar-israel       zohar israel   \n",
       "52868      Palo Alto     /person/zorba-lieberman    Zorba Lieberman   \n",
       "52869    Minneapolis        /person/zorik-gordon       Zorik Gordon   \n",
       "\n",
       "      investor_category_code investor_country_code investor_state_code  \\\n",
       "0                        NaN                   USA                  NY   \n",
       "1                    finance                   USA                  OH   \n",
       "2                    finance                   USA                  OH   \n",
       "3                    finance                   USA                  OH   \n",
       "4                    finance                   USA                  OH   \n",
       "...                      ...                   ...                 ...   \n",
       "52865                    NaN                   NaN                 NaN   \n",
       "52866                    NaN                   NaN                 NaN   \n",
       "52867                    NaN                   NaN                 NaN   \n",
       "52868                    NaN                   NaN                 NaN   \n",
       "52869                    NaN                   NaN                 NaN   \n",
       "\n",
       "      investor_region investor_city funding_round_type   funded_at  \\\n",
       "0            New York      New York           series-a  2012-10-30   \n",
       "1            Columbus      Columbus              other  2012-01-23   \n",
       "2            Columbus      Columbus              other  2012-01-01   \n",
       "3            Columbus      Columbus              angel  2012-02-15   \n",
       "4            Columbus      Columbus              other  2011-09-08   \n",
       "...               ...           ...                ...         ...   \n",
       "52865         unknown           NaN           series-a  2012-08-08   \n",
       "52866         unknown           NaN          series-c+  2013-04-08   \n",
       "52867         unknown           NaN              angel  2010-08-01   \n",
       "52868         unknown           NaN           series-a  2013-07-11   \n",
       "52869         unknown           NaN           series-a  2012-12-04   \n",
       "\n",
       "      funded_month funded_quarter  funded_year  raised_amount_usd  \n",
       "0          2012-10        2012-Q4       2012.0          2000000.0  \n",
       "1          2012-01        2012-Q1       2012.0            20000.0  \n",
       "2          2012-01        2012-Q1       2012.0            20000.0  \n",
       "3          2012-02        2012-Q1       2012.0            20000.0  \n",
       "4          2011-09        2011-Q3       2011.0            20000.0  \n",
       "...            ...            ...          ...                ...  \n",
       "52865      2012-08        2012-Q3       2012.0          3800000.0  \n",
       "52866      2013-04        2013-Q2       2013.0         10300000.0  \n",
       "52867      2010-08        2010-Q3       2010.0           350000.0  \n",
       "52868      2013-07        2013-Q3       2013.0          8400000.0  \n",
       "52869      2012-12        2012-Q4       2012.0          3000000.0  \n",
       "\n",
       "[52870 rows x 20 columns]"
      ]
     },
     "execution_count": 6,
     "metadata": {},
     "output_type": "execute_result"
    }
   ],
   "source": [
    "df"
   ]
  },
  {
   "cell_type": "code",
   "execution_count": 7,
   "id": "4ab7b225",
   "metadata": {
    "ExecuteTime": {
     "end_time": "2024-06-22T09:57:02.786715Z",
     "start_time": "2024-06-22T09:57:02.781928Z"
    }
   },
   "outputs": [
    {
     "data": {
      "text/plain": [
       "Index(['company_permalink', 'company_name', 'company_category_code',\n",
       "       'company_country_code', 'company_state_code', 'company_region',\n",
       "       'company_city', 'investor_permalink', 'investor_name',\n",
       "       'investor_category_code', 'investor_country_code',\n",
       "       'investor_state_code', 'investor_region', 'investor_city',\n",
       "       'funding_round_type', 'funded_at', 'funded_month', 'funded_quarter',\n",
       "       'funded_year', 'raised_amount_usd'],\n",
       "      dtype='object')"
      ]
     },
     "execution_count": 7,
     "metadata": {},
     "output_type": "execute_result"
    }
   ],
   "source": [
    "df.columns"
   ]
  },
  {
   "cell_type": "code",
   "execution_count": 8,
   "id": "9f741738",
   "metadata": {
    "ExecuteTime": {
     "end_time": "2024-06-22T09:57:02.793974Z",
     "start_time": "2024-06-22T09:57:02.787710Z"
    }
   },
   "outputs": [],
   "source": [
    "df=df.drop(['company_permalink','investor_permalink',\n",
    "       'company_country_code', 'company_state_code',\n",
    "       'company_city','investor_category_code',\n",
    "       'funded_at', 'funded_month', 'funded_quarter',\n",
    "       'funded_year','raised_amount_usd'],axis=1)"
   ]
  },
  {
   "cell_type": "code",
   "execution_count": 9,
   "id": "320bf405",
   "metadata": {
    "ExecuteTime": {
     "end_time": "2024-06-22T09:57:02.804650Z",
     "start_time": "2024-06-22T09:57:02.795971Z"
    }
   },
   "outputs": [
    {
     "data": {
      "text/html": [
       "<div>\n",
       "<style scoped>\n",
       "    .dataframe tbody tr th:only-of-type {\n",
       "        vertical-align: middle;\n",
       "    }\n",
       "\n",
       "    .dataframe tbody tr th {\n",
       "        vertical-align: top;\n",
       "    }\n",
       "\n",
       "    .dataframe thead th {\n",
       "        text-align: right;\n",
       "    }\n",
       "</style>\n",
       "<table border=\"1\" class=\"dataframe\">\n",
       "  <thead>\n",
       "    <tr style=\"text-align: right;\">\n",
       "      <th></th>\n",
       "      <th>company_name</th>\n",
       "      <th>company_category_code</th>\n",
       "      <th>company_region</th>\n",
       "      <th>investor_name</th>\n",
       "      <th>investor_country_code</th>\n",
       "      <th>investor_state_code</th>\n",
       "      <th>investor_region</th>\n",
       "      <th>investor_city</th>\n",
       "      <th>funding_round_type</th>\n",
       "    </tr>\n",
       "  </thead>\n",
       "  <tbody>\n",
       "    <tr>\n",
       "      <th>0</th>\n",
       "      <td>AdverCar</td>\n",
       "      <td>advertising</td>\n",
       "      <td>SF Bay</td>\n",
       "      <td>1-800-FLOWERS.COM</td>\n",
       "      <td>USA</td>\n",
       "      <td>NY</td>\n",
       "      <td>New York</td>\n",
       "      <td>New York</td>\n",
       "      <td>series-a</td>\n",
       "    </tr>\n",
       "    <tr>\n",
       "      <th>1</th>\n",
       "      <td>LaunchGram</td>\n",
       "      <td>news</td>\n",
       "      <td>SF Bay</td>\n",
       "      <td>10Xelerator</td>\n",
       "      <td>USA</td>\n",
       "      <td>OH</td>\n",
       "      <td>Columbus</td>\n",
       "      <td>Columbus</td>\n",
       "      <td>other</td>\n",
       "    </tr>\n",
       "    <tr>\n",
       "      <th>2</th>\n",
       "      <td>uTaP</td>\n",
       "      <td>messaging</td>\n",
       "      <td>United States - Other</td>\n",
       "      <td>10Xelerator</td>\n",
       "      <td>USA</td>\n",
       "      <td>OH</td>\n",
       "      <td>Columbus</td>\n",
       "      <td>Columbus</td>\n",
       "      <td>other</td>\n",
       "    </tr>\n",
       "    <tr>\n",
       "      <th>3</th>\n",
       "      <td>ZoopShop</td>\n",
       "      <td>software</td>\n",
       "      <td>Columbus</td>\n",
       "      <td>10Xelerator</td>\n",
       "      <td>USA</td>\n",
       "      <td>OH</td>\n",
       "      <td>Columbus</td>\n",
       "      <td>Columbus</td>\n",
       "      <td>angel</td>\n",
       "    </tr>\n",
       "    <tr>\n",
       "      <th>4</th>\n",
       "      <td>eFuneral</td>\n",
       "      <td>web</td>\n",
       "      <td>Cleveland</td>\n",
       "      <td>10Xelerator</td>\n",
       "      <td>USA</td>\n",
       "      <td>OH</td>\n",
       "      <td>Columbus</td>\n",
       "      <td>Columbus</td>\n",
       "      <td>other</td>\n",
       "    </tr>\n",
       "  </tbody>\n",
       "</table>\n",
       "</div>"
      ],
      "text/plain": [
       "  company_name company_category_code         company_region  \\\n",
       "0     AdverCar           advertising                 SF Bay   \n",
       "1   LaunchGram                  news                 SF Bay   \n",
       "2         uTaP             messaging  United States - Other   \n",
       "3     ZoopShop              software               Columbus   \n",
       "4     eFuneral                   web              Cleveland   \n",
       "\n",
       "       investor_name investor_country_code investor_state_code  \\\n",
       "0  1-800-FLOWERS.COM                   USA                  NY   \n",
       "1        10Xelerator                   USA                  OH   \n",
       "2        10Xelerator                   USA                  OH   \n",
       "3        10Xelerator                   USA                  OH   \n",
       "4        10Xelerator                   USA                  OH   \n",
       "\n",
       "  investor_region investor_city funding_round_type  \n",
       "0        New York      New York           series-a  \n",
       "1        Columbus      Columbus              other  \n",
       "2        Columbus      Columbus              other  \n",
       "3        Columbus      Columbus              angel  \n",
       "4        Columbus      Columbus              other  "
      ]
     },
     "execution_count": 9,
     "metadata": {},
     "output_type": "execute_result"
    }
   ],
   "source": [
    "df.head()"
   ]
  },
  {
   "cell_type": "code",
   "execution_count": 10,
   "id": "ee588dd4",
   "metadata": {
    "ExecuteTime": {
     "end_time": "2024-06-22T09:57:02.824191Z",
     "start_time": "2024-06-22T09:57:02.805647Z"
    }
   },
   "outputs": [
    {
     "data": {
      "text/plain": [
       "company_name             11573\n",
       "company_category_code       43\n",
       "company_region             546\n",
       "investor_name            10465\n",
       "investor_country_code       72\n",
       "investor_state_code         50\n",
       "investor_region            585\n",
       "investor_city              990\n",
       "funding_round_type           9\n",
       "dtype: int64"
      ]
     },
     "execution_count": 10,
     "metadata": {},
     "output_type": "execute_result"
    }
   ],
   "source": [
    "df.nunique()"
   ]
  },
  {
   "cell_type": "code",
   "execution_count": 11,
   "id": "4a8ec7e1",
   "metadata": {
    "ExecuteTime": {
     "end_time": "2024-06-22T09:57:02.841698Z",
     "start_time": "2024-06-22T09:57:02.825190Z"
    }
   },
   "outputs": [
    {
     "data": {
      "text/plain": [
       "company_name                 1\n",
       "company_category_code      643\n",
       "company_region               1\n",
       "investor_name                2\n",
       "investor_country_code    12001\n",
       "investor_state_code      16809\n",
       "investor_region              2\n",
       "investor_city            12480\n",
       "funding_round_type           3\n",
       "dtype: int64"
      ]
     },
     "execution_count": 11,
     "metadata": {},
     "output_type": "execute_result"
    }
   ],
   "source": [
    "df.isnull().sum()"
   ]
  },
  {
   "cell_type": "code",
   "execution_count": 12,
   "id": "a380cf17",
   "metadata": {
    "ExecuteTime": {
     "end_time": "2024-06-22T09:57:02.863523Z",
     "start_time": "2024-06-22T09:57:02.842710Z"
    }
   },
   "outputs": [],
   "source": [
    "df=df.dropna(axis=0, subset=['company_category_code','company_region','funding_round_type','company_name','investor_name','investor_region'])"
   ]
  },
  {
   "cell_type": "code",
   "execution_count": 13,
   "id": "1f3b92eb",
   "metadata": {
    "ExecuteTime": {
     "end_time": "2024-06-22T09:57:02.880685Z",
     "start_time": "2024-06-22T09:57:02.865532Z"
    }
   },
   "outputs": [
    {
     "data": {
      "text/html": [
       "<div>\n",
       "<style scoped>\n",
       "    .dataframe tbody tr th:only-of-type {\n",
       "        vertical-align: middle;\n",
       "    }\n",
       "\n",
       "    .dataframe tbody tr th {\n",
       "        vertical-align: top;\n",
       "    }\n",
       "\n",
       "    .dataframe thead th {\n",
       "        text-align: right;\n",
       "    }\n",
       "</style>\n",
       "<table border=\"1\" class=\"dataframe\">\n",
       "  <thead>\n",
       "    <tr style=\"text-align: right;\">\n",
       "      <th></th>\n",
       "      <th>company_name</th>\n",
       "      <th>company_category_code</th>\n",
       "      <th>company_region</th>\n",
       "      <th>investor_name</th>\n",
       "      <th>investor_country_code</th>\n",
       "      <th>investor_state_code</th>\n",
       "      <th>investor_region</th>\n",
       "      <th>investor_city</th>\n",
       "      <th>funding_round_type</th>\n",
       "    </tr>\n",
       "  </thead>\n",
       "  <tbody>\n",
       "    <tr>\n",
       "      <th>0</th>\n",
       "      <td>AdverCar</td>\n",
       "      <td>advertising</td>\n",
       "      <td>SF Bay</td>\n",
       "      <td>1-800-FLOWERS.COM</td>\n",
       "      <td>USA</td>\n",
       "      <td>NY</td>\n",
       "      <td>New York</td>\n",
       "      <td>New York</td>\n",
       "      <td>series-a</td>\n",
       "    </tr>\n",
       "    <tr>\n",
       "      <th>1</th>\n",
       "      <td>LaunchGram</td>\n",
       "      <td>news</td>\n",
       "      <td>SF Bay</td>\n",
       "      <td>10Xelerator</td>\n",
       "      <td>USA</td>\n",
       "      <td>OH</td>\n",
       "      <td>Columbus</td>\n",
       "      <td>Columbus</td>\n",
       "      <td>other</td>\n",
       "    </tr>\n",
       "    <tr>\n",
       "      <th>2</th>\n",
       "      <td>uTaP</td>\n",
       "      <td>messaging</td>\n",
       "      <td>United States - Other</td>\n",
       "      <td>10Xelerator</td>\n",
       "      <td>USA</td>\n",
       "      <td>OH</td>\n",
       "      <td>Columbus</td>\n",
       "      <td>Columbus</td>\n",
       "      <td>other</td>\n",
       "    </tr>\n",
       "    <tr>\n",
       "      <th>3</th>\n",
       "      <td>ZoopShop</td>\n",
       "      <td>software</td>\n",
       "      <td>Columbus</td>\n",
       "      <td>10Xelerator</td>\n",
       "      <td>USA</td>\n",
       "      <td>OH</td>\n",
       "      <td>Columbus</td>\n",
       "      <td>Columbus</td>\n",
       "      <td>angel</td>\n",
       "    </tr>\n",
       "    <tr>\n",
       "      <th>4</th>\n",
       "      <td>eFuneral</td>\n",
       "      <td>web</td>\n",
       "      <td>Cleveland</td>\n",
       "      <td>10Xelerator</td>\n",
       "      <td>USA</td>\n",
       "      <td>OH</td>\n",
       "      <td>Columbus</td>\n",
       "      <td>Columbus</td>\n",
       "      <td>other</td>\n",
       "    </tr>\n",
       "    <tr>\n",
       "      <th>...</th>\n",
       "      <td>...</td>\n",
       "      <td>...</td>\n",
       "      <td>...</td>\n",
       "      <td>...</td>\n",
       "      <td>...</td>\n",
       "      <td>...</td>\n",
       "      <td>...</td>\n",
       "      <td>...</td>\n",
       "      <td>...</td>\n",
       "    </tr>\n",
       "    <tr>\n",
       "      <th>52865</th>\n",
       "      <td>Garantia Data</td>\n",
       "      <td>enterprise</td>\n",
       "      <td>SF Bay</td>\n",
       "      <td>Zohar Gilon</td>\n",
       "      <td>NaN</td>\n",
       "      <td>NaN</td>\n",
       "      <td>unknown</td>\n",
       "      <td>NaN</td>\n",
       "      <td>series-a</td>\n",
       "    </tr>\n",
       "    <tr>\n",
       "      <th>52866</th>\n",
       "      <td>DudaMobile</td>\n",
       "      <td>mobile</td>\n",
       "      <td>SF Bay</td>\n",
       "      <td>Zohar Gilon</td>\n",
       "      <td>NaN</td>\n",
       "      <td>NaN</td>\n",
       "      <td>unknown</td>\n",
       "      <td>NaN</td>\n",
       "      <td>series-c+</td>\n",
       "    </tr>\n",
       "    <tr>\n",
       "      <th>52867</th>\n",
       "      <td>SiteBrains</td>\n",
       "      <td>software</td>\n",
       "      <td>SF Bay</td>\n",
       "      <td>zohar israel</td>\n",
       "      <td>NaN</td>\n",
       "      <td>NaN</td>\n",
       "      <td>unknown</td>\n",
       "      <td>NaN</td>\n",
       "      <td>angel</td>\n",
       "    </tr>\n",
       "    <tr>\n",
       "      <th>52868</th>\n",
       "      <td>Comprehend Systems</td>\n",
       "      <td>enterprise</td>\n",
       "      <td>SF Bay</td>\n",
       "      <td>Zorba Lieberman</td>\n",
       "      <td>NaN</td>\n",
       "      <td>NaN</td>\n",
       "      <td>unknown</td>\n",
       "      <td>NaN</td>\n",
       "      <td>series-a</td>\n",
       "    </tr>\n",
       "    <tr>\n",
       "      <th>52869</th>\n",
       "      <td>SmartThings</td>\n",
       "      <td>mobile</td>\n",
       "      <td>unknown</td>\n",
       "      <td>Zorik Gordon</td>\n",
       "      <td>NaN</td>\n",
       "      <td>NaN</td>\n",
       "      <td>unknown</td>\n",
       "      <td>NaN</td>\n",
       "      <td>series-a</td>\n",
       "    </tr>\n",
       "  </tbody>\n",
       "</table>\n",
       "<p>52225 rows × 9 columns</p>\n",
       "</div>"
      ],
      "text/plain": [
       "             company_name company_category_code         company_region  \\\n",
       "0                AdverCar           advertising                 SF Bay   \n",
       "1              LaunchGram                  news                 SF Bay   \n",
       "2                    uTaP             messaging  United States - Other   \n",
       "3                ZoopShop              software               Columbus   \n",
       "4                eFuneral                   web              Cleveland   \n",
       "...                   ...                   ...                    ...   \n",
       "52865       Garantia Data            enterprise                 SF Bay   \n",
       "52866          DudaMobile                mobile                 SF Bay   \n",
       "52867          SiteBrains              software                 SF Bay   \n",
       "52868  Comprehend Systems            enterprise                 SF Bay   \n",
       "52869         SmartThings                mobile                unknown   \n",
       "\n",
       "           investor_name investor_country_code investor_state_code  \\\n",
       "0      1-800-FLOWERS.COM                   USA                  NY   \n",
       "1            10Xelerator                   USA                  OH   \n",
       "2            10Xelerator                   USA                  OH   \n",
       "3            10Xelerator                   USA                  OH   \n",
       "4            10Xelerator                   USA                  OH   \n",
       "...                  ...                   ...                 ...   \n",
       "52865        Zohar Gilon                   NaN                 NaN   \n",
       "52866        Zohar Gilon                   NaN                 NaN   \n",
       "52867       zohar israel                   NaN                 NaN   \n",
       "52868    Zorba Lieberman                   NaN                 NaN   \n",
       "52869       Zorik Gordon                   NaN                 NaN   \n",
       "\n",
       "      investor_region investor_city funding_round_type  \n",
       "0            New York      New York           series-a  \n",
       "1            Columbus      Columbus              other  \n",
       "2            Columbus      Columbus              other  \n",
       "3            Columbus      Columbus              angel  \n",
       "4            Columbus      Columbus              other  \n",
       "...               ...           ...                ...  \n",
       "52865         unknown           NaN           series-a  \n",
       "52866         unknown           NaN          series-c+  \n",
       "52867         unknown           NaN              angel  \n",
       "52868         unknown           NaN           series-a  \n",
       "52869         unknown           NaN           series-a  \n",
       "\n",
       "[52225 rows x 9 columns]"
      ]
     },
     "execution_count": 13,
     "metadata": {},
     "output_type": "execute_result"
    }
   ],
   "source": [
    "df"
   ]
  },
  {
   "cell_type": "code",
   "execution_count": 14,
   "id": "1dc59fb6",
   "metadata": {
    "ExecuteTime": {
     "end_time": "2024-06-22T09:57:02.920752Z",
     "start_time": "2024-06-22T09:57:02.882697Z"
    }
   },
   "outputs": [
    {
     "data": {
      "text/plain": [
       "3844"
      ]
     },
     "execution_count": 14,
     "metadata": {},
     "output_type": "execute_result"
    }
   ],
   "source": [
    "df.duplicated().sum()"
   ]
  },
  {
   "cell_type": "code",
   "execution_count": 15,
   "id": "ae54c52b",
   "metadata": {
    "ExecuteTime": {
     "end_time": "2024-06-22T09:57:02.928453Z",
     "start_time": "2024-06-22T09:57:02.921760Z"
    }
   },
   "outputs": [],
   "source": [
    "df = df.drop_duplicates(subset='investor_name', keep='first')"
   ]
  },
  {
   "cell_type": "code",
   "execution_count": 16,
   "id": "1990e3f6",
   "metadata": {
    "ExecuteTime": {
     "end_time": "2024-06-22T09:57:02.941958Z",
     "start_time": "2024-06-22T09:57:02.929451Z"
    }
   },
   "outputs": [
    {
     "data": {
      "text/plain": [
       "0"
      ]
     },
     "execution_count": 16,
     "metadata": {},
     "output_type": "execute_result"
    }
   ],
   "source": [
    "df.duplicated().sum()"
   ]
  },
  {
   "cell_type": "code",
   "execution_count": 17,
   "id": "aab44ee5",
   "metadata": {
    "ExecuteTime": {
     "end_time": "2024-06-22T09:57:02.946267Z",
     "start_time": "2024-06-22T09:57:02.942967Z"
    }
   },
   "outputs": [],
   "source": [
    "df1=df"
   ]
  },
  {
   "cell_type": "code",
   "execution_count": 18,
   "id": "108fa5c4",
   "metadata": {
    "ExecuteTime": {
     "end_time": "2024-06-22T09:57:02.953709Z",
     "start_time": "2024-06-22T09:57:02.949278Z"
    }
   },
   "outputs": [
    {
     "data": {
      "text/plain": [
       "(10392, 9)"
      ]
     },
     "execution_count": 18,
     "metadata": {},
     "output_type": "execute_result"
    }
   ],
   "source": [
    "df1.shape"
   ]
  },
  {
   "cell_type": "code",
   "execution_count": 19,
   "id": "7214479e",
   "metadata": {
    "ExecuteTime": {
     "end_time": "2024-06-22T09:57:02.958934Z",
     "start_time": "2024-06-22T09:57:02.954720Z"
    }
   },
   "outputs": [],
   "source": [
    "def clean_data(x):\n",
    "    if isinstance(x, list):\n",
    "        return [str.lower(i.replace(\" \", \"\")) for i in x]\n",
    "    else:\n",
    "        if isinstance(x, str):\n",
    "            return str.lower(x.replace(\" \", \"\"))\n",
    "        else:\n",
    "            return ''"
   ]
  },
  {
   "cell_type": "code",
   "execution_count": 20,
   "id": "0d79416f",
   "metadata": {
    "ExecuteTime": {
     "end_time": "2024-06-22T09:57:02.964919Z",
     "start_time": "2024-06-22T09:57:02.959941Z"
    }
   },
   "outputs": [
    {
     "data": {
      "text/plain": [
       "Index(['company_name', 'company_category_code', 'company_region',\n",
       "       'investor_name', 'investor_country_code', 'investor_state_code',\n",
       "       'investor_region', 'investor_city', 'funding_round_type'],\n",
       "      dtype='object')"
      ]
     },
     "execution_count": 20,
     "metadata": {},
     "output_type": "execute_result"
    }
   ],
   "source": [
    "df.columns"
   ]
  },
  {
   "cell_type": "markdown",
   "id": "5e01902e",
   "metadata": {},
   "source": [
    "# Content Based Recommender System"
   ]
  },
  {
   "cell_type": "code",
   "execution_count": 21,
   "id": "2055f66d",
   "metadata": {
    "ExecuteTime": {
     "end_time": "2024-06-22T09:57:02.969453Z",
     "start_time": "2024-06-22T09:57:02.965930Z"
    }
   },
   "outputs": [],
   "source": [
    "features =['company_name', 'company_category_code', 'company_region',\n",
    "       'investor_country_code', 'investor_state_code',\n",
    "       'investor_region', 'investor_city', 'funding_round_type']"
   ]
  },
  {
   "cell_type": "code",
   "execution_count": 22,
   "id": "ad885912",
   "metadata": {
    "ExecuteTime": {
     "end_time": "2024-06-22T09:57:03.004259Z",
     "start_time": "2024-06-22T09:57:02.970464Z"
    }
   },
   "outputs": [],
   "source": [
    "for feature in features:\n",
    "    df[feature] = df[feature].apply(clean_data)"
   ]
  },
  {
   "cell_type": "code",
   "execution_count": 23,
   "id": "c77633f0",
   "metadata": {
    "ExecuteTime": {
     "end_time": "2024-06-22T09:57:03.013867Z",
     "start_time": "2024-06-22T09:57:03.005267Z"
    }
   },
   "outputs": [
    {
     "data": {
      "text/html": [
       "<div>\n",
       "<style scoped>\n",
       "    .dataframe tbody tr th:only-of-type {\n",
       "        vertical-align: middle;\n",
       "    }\n",
       "\n",
       "    .dataframe tbody tr th {\n",
       "        vertical-align: top;\n",
       "    }\n",
       "\n",
       "    .dataframe thead th {\n",
       "        text-align: right;\n",
       "    }\n",
       "</style>\n",
       "<table border=\"1\" class=\"dataframe\">\n",
       "  <thead>\n",
       "    <tr style=\"text-align: right;\">\n",
       "      <th></th>\n",
       "      <th>company_name</th>\n",
       "      <th>company_category_code</th>\n",
       "      <th>company_region</th>\n",
       "      <th>investor_name</th>\n",
       "      <th>investor_country_code</th>\n",
       "      <th>investor_state_code</th>\n",
       "      <th>investor_region</th>\n",
       "      <th>investor_city</th>\n",
       "      <th>funding_round_type</th>\n",
       "    </tr>\n",
       "  </thead>\n",
       "  <tbody>\n",
       "    <tr>\n",
       "      <th>0</th>\n",
       "      <td>advercar</td>\n",
       "      <td>advertising</td>\n",
       "      <td>sfbay</td>\n",
       "      <td>1-800-flowers.com</td>\n",
       "      <td>usa</td>\n",
       "      <td>ny</td>\n",
       "      <td>newyork</td>\n",
       "      <td>newyork</td>\n",
       "      <td>series-a</td>\n",
       "    </tr>\n",
       "    <tr>\n",
       "      <th>1</th>\n",
       "      <td>launchgram</td>\n",
       "      <td>news</td>\n",
       "      <td>sfbay</td>\n",
       "      <td>10xelerator</td>\n",
       "      <td>usa</td>\n",
       "      <td>oh</td>\n",
       "      <td>columbus</td>\n",
       "      <td>columbus</td>\n",
       "      <td>other</td>\n",
       "    </tr>\n",
       "    <tr>\n",
       "      <th>8</th>\n",
       "      <td>toviefor</td>\n",
       "      <td>ecommerce</td>\n",
       "      <td>newyork</td>\n",
       "      <td>2010nyusternbusinessplancompetition</td>\n",
       "      <td></td>\n",
       "      <td></td>\n",
       "      <td>unknown</td>\n",
       "      <td></td>\n",
       "      <td>angel</td>\n",
       "    </tr>\n",
       "    <tr>\n",
       "      <th>9</th>\n",
       "      <td>ohklabs</td>\n",
       "      <td>sports</td>\n",
       "      <td>palmbeach</td>\n",
       "      <td>22hundredgroup</td>\n",
       "      <td></td>\n",
       "      <td></td>\n",
       "      <td>unknown</td>\n",
       "      <td></td>\n",
       "      <td>angel</td>\n",
       "    </tr>\n",
       "    <tr>\n",
       "      <th>10</th>\n",
       "      <td>lovely</td>\n",
       "      <td>real_estate</td>\n",
       "      <td>sfbay</td>\n",
       "      <td>3taps</td>\n",
       "      <td>usa</td>\n",
       "      <td>ca</td>\n",
       "      <td>sfbay</td>\n",
       "      <td>sanfrancisco</td>\n",
       "      <td>series-a</td>\n",
       "    </tr>\n",
       "  </tbody>\n",
       "</table>\n",
       "</div>"
      ],
      "text/plain": [
       "   company_name company_category_code company_region  \\\n",
       "0      advercar           advertising          sfbay   \n",
       "1    launchgram                  news          sfbay   \n",
       "8      toviefor             ecommerce        newyork   \n",
       "9       ohklabs                sports      palmbeach   \n",
       "10       lovely           real_estate          sfbay   \n",
       "\n",
       "                          investor_name investor_country_code  \\\n",
       "0                     1-800-flowers.com                   usa   \n",
       "1                           10xelerator                   usa   \n",
       "8   2010nyusternbusinessplancompetition                         \n",
       "9                        22hundredgroup                         \n",
       "10                                3taps                   usa   \n",
       "\n",
       "   investor_state_code investor_region investor_city funding_round_type  \n",
       "0                   ny         newyork       newyork           series-a  \n",
       "1                   oh        columbus      columbus              other  \n",
       "8                              unknown                            angel  \n",
       "9                              unknown                            angel  \n",
       "10                  ca           sfbay  sanfrancisco           series-a  "
      ]
     },
     "execution_count": 23,
     "metadata": {},
     "output_type": "execute_result"
    }
   ],
   "source": [
    "df1.head()"
   ]
  },
  {
   "cell_type": "code",
   "execution_count": 24,
   "id": "64b93514",
   "metadata": {
    "ExecuteTime": {
     "end_time": "2024-06-22T09:57:03.073249Z",
     "start_time": "2024-06-22T09:57:03.014873Z"
    }
   },
   "outputs": [],
   "source": [
    "df['metric'] =df[['company_name', 'company_category_code', 'company_region',\n",
    "        'investor_country_code', 'investor_state_code',\n",
    "       'investor_region', 'investor_city', 'funding_round_type']].apply(lambda x: \" \".join(x), axis=1)"
   ]
  },
  {
   "cell_type": "code",
   "execution_count": 25,
   "id": "61e51e86",
   "metadata": {
    "ExecuteTime": {
     "end_time": "2024-06-22T09:57:03.079784Z",
     "start_time": "2024-06-22T09:57:03.074256Z"
    }
   },
   "outputs": [
    {
     "data": {
      "text/plain": [
       "'launchgram news sfbay usa oh columbus columbus other'"
      ]
     },
     "execution_count": 25,
     "metadata": {},
     "output_type": "execute_result"
    }
   ],
   "source": [
    "df1.metric[1]"
   ]
  },
  {
   "cell_type": "code",
   "execution_count": 26,
   "id": "5b48e4da",
   "metadata": {
    "ExecuteTime": {
     "end_time": "2024-06-22T09:57:03.087055Z",
     "start_time": "2024-06-22T09:57:03.081796Z"
    }
   },
   "outputs": [],
   "source": [
    "df2=df1.drop(['company_name', 'company_category_code', 'company_region',\n",
    "        'investor_country_code', 'investor_state_code',\n",
    "        'investor_region', 'investor_city', 'funding_round_type'],axis=1)"
   ]
  },
  {
   "cell_type": "code",
   "execution_count": 27,
   "id": "6a5e3bab",
   "metadata": {
    "ExecuteTime": {
     "end_time": "2024-06-22T09:57:03.268700Z",
     "start_time": "2024-06-22T09:57:03.262065Z"
    }
   },
   "outputs": [
    {
     "data": {
      "text/html": [
       "<div>\n",
       "<style scoped>\n",
       "    .dataframe tbody tr th:only-of-type {\n",
       "        vertical-align: middle;\n",
       "    }\n",
       "\n",
       "    .dataframe tbody tr th {\n",
       "        vertical-align: top;\n",
       "    }\n",
       "\n",
       "    .dataframe thead th {\n",
       "        text-align: right;\n",
       "    }\n",
       "</style>\n",
       "<table border=\"1\" class=\"dataframe\">\n",
       "  <thead>\n",
       "    <tr style=\"text-align: right;\">\n",
       "      <th></th>\n",
       "      <th>investor_name</th>\n",
       "      <th>metric</th>\n",
       "    </tr>\n",
       "  </thead>\n",
       "  <tbody>\n",
       "    <tr>\n",
       "      <th>52862</th>\n",
       "      <td>zodnazem</td>\n",
       "      <td>comprehendsystems enterprise sfbay   unknown  ...</td>\n",
       "    </tr>\n",
       "    <tr>\n",
       "      <th>52863</th>\n",
       "      <td>zohargilon</td>\n",
       "      <td>payoneer other newyork   unknown  series-a</td>\n",
       "    </tr>\n",
       "    <tr>\n",
       "      <th>52867</th>\n",
       "      <td>zoharisrael</td>\n",
       "      <td>sitebrains software sfbay   unknown  angel</td>\n",
       "    </tr>\n",
       "    <tr>\n",
       "      <th>52868</th>\n",
       "      <td>zorbalieberman</td>\n",
       "      <td>comprehendsystems enterprise sfbay   unknown  ...</td>\n",
       "    </tr>\n",
       "    <tr>\n",
       "      <th>52869</th>\n",
       "      <td>zorikgordon</td>\n",
       "      <td>smartthings mobile unknown   unknown  series-a</td>\n",
       "    </tr>\n",
       "  </tbody>\n",
       "</table>\n",
       "</div>"
      ],
      "text/plain": [
       "        investor_name                                             metric\n",
       "52862        zodnazem  comprehendsystems enterprise sfbay   unknown  ...\n",
       "52863      zohargilon         payoneer other newyork   unknown  series-a\n",
       "52867     zoharisrael         sitebrains software sfbay   unknown  angel\n",
       "52868  zorbalieberman  comprehendsystems enterprise sfbay   unknown  ...\n",
       "52869     zorikgordon     smartthings mobile unknown   unknown  series-a"
      ]
     },
     "execution_count": 27,
     "metadata": {},
     "output_type": "execute_result"
    }
   ],
   "source": [
    "df2.tail()"
   ]
  },
  {
   "cell_type": "code",
   "execution_count": 28,
   "id": "1d25554d",
   "metadata": {
    "ExecuteTime": {
     "end_time": "2024-06-22T09:57:05.296447Z",
     "start_time": "2024-06-22T09:57:03.426710Z"
    }
   },
   "outputs": [],
   "source": [
    "from sklearn.feature_extraction.text import CountVectorizer"
   ]
  },
  {
   "cell_type": "code",
   "execution_count": 29,
   "id": "76ab181d",
   "metadata": {
    "ExecuteTime": {
     "end_time": "2024-06-22T09:57:05.417777Z",
     "start_time": "2024-06-22T09:57:05.297446Z"
    }
   },
   "outputs": [
    {
     "data": {
      "text/plain": [
       "(10392, 17405)"
      ]
     },
     "execution_count": 29,
     "metadata": {},
     "output_type": "execute_result"
    }
   ],
   "source": [
    "cv = CountVectorizer(analyzer='word',ngram_range=(1, 2),min_df=0, stop_words='english')\n",
    "cv_matrix = cv.fit_transform(df2['metric'])\n",
    "cv_matrix.shape"
   ]
  },
  {
   "cell_type": "code",
   "execution_count": 30,
   "id": "9924e934",
   "metadata": {
    "ExecuteTime": {
     "end_time": "2024-06-22T09:57:06.825628Z",
     "start_time": "2024-06-22T09:57:05.418774Z"
    }
   },
   "outputs": [],
   "source": [
    "from sklearn.metrics.pairwise import cosine_similarity\n",
    "cosine_sim = cosine_similarity(cv_matrix, cv_matrix)"
   ]
  },
  {
   "cell_type": "code",
   "execution_count": 31,
   "id": "5e8ed416",
   "metadata": {
    "ExecuteTime": {
     "end_time": "2024-06-22T09:57:06.831293Z",
     "start_time": "2024-06-22T09:57:06.826628Z"
    }
   },
   "outputs": [
    {
     "data": {
      "text/plain": [
       "array([0.24253563, 0.        , 0.33333333, ..., 0.22222222, 0.33333333,\n",
       "       0.40201513])"
      ]
     },
     "execution_count": 31,
     "metadata": {},
     "output_type": "execute_result"
    }
   ],
   "source": [
    "cosine_sim[30]"
   ]
  },
  {
   "cell_type": "code",
   "execution_count": 32,
   "id": "b4552ee7",
   "metadata": {
    "ExecuteTime": {
     "end_time": "2024-06-22T09:57:06.838287Z",
     "start_time": "2024-06-22T09:57:06.833288Z"
    }
   },
   "outputs": [],
   "source": [
    "df2= df2.reset_index()\n",
    "indices = pd.Series(df2.index, index=df2['investor_name'])"
   ]
  },
  {
   "cell_type": "code",
   "execution_count": 33,
   "id": "bf590531",
   "metadata": {
    "ExecuteTime": {
     "end_time": "2024-06-22T09:57:06.843444Z",
     "start_time": "2024-06-22T09:57:06.839287Z"
    }
   },
   "outputs": [],
   "source": [
    "def get_recommendations(investor_name, cosine_sim=cosine_sim):\n",
    "    idx = indices[investor_name]\n",
    "    sim_scores = list(enumerate(cosine_sim[idx]))\n",
    "    sim_scores = sorted(sim_scores, key=lambda x: x[1], reverse=True)\n",
    "    sim_scores = sim_scores[1:11]\n",
    "    investor_indices = [i[0] for i in sim_scores]\n",
    "    return df['investor_name'].iloc[investor_indices]"
   ]
  },
  {
   "cell_type": "code",
   "execution_count": 34,
   "id": "c38463a7",
   "metadata": {
    "ExecuteTime": {
     "end_time": "2024-06-22T09:57:06.856725Z",
     "start_time": "2024-06-22T09:57:06.844444Z"
    }
   },
   "outputs": [
    {
     "data": {
      "text/plain": [
       "50033            nathanhanks\n",
       "52869            zorikgordon\n",
       "45340            chrismiller\n",
       "1446     kegonsatechnologies\n",
       "15278          fanisicapital\n",
       "23513         kalaaricapital\n",
       "47805             jeffparker\n",
       "45104         brianvalentine\n",
       "45475            colebrodman\n",
       "46354               dougdoan\n",
       "Name: investor_name, dtype: object"
      ]
     },
     "execution_count": 34,
     "metadata": {},
     "output_type": "execute_result"
    }
   ],
   "source": [
    "get_recommendations(\"zorikgordon\", cosine_sim)"
   ]
  },
  {
   "cell_type": "code",
   "execution_count": 35,
   "id": "2da58a12",
   "metadata": {
    "ExecuteTime": {
     "end_time": "2024-06-22T09:57:06.867944Z",
     "start_time": "2024-06-22T09:57:06.857725Z"
    }
   },
   "outputs": [
    {
     "data": {
      "text/plain": [
       "15278             fanisicapital\n",
       "23513            kalaaricapital\n",
       "47805                jeffparker\n",
       "49020                loiclemeur\n",
       "50033               nathanhanks\n",
       "52869               zorikgordon\n",
       "598               charlesschwab\n",
       "1251                holtzbrinck\n",
       "1865     northwesternuniversity\n",
       "2303          signetenterprises\n",
       "Name: investor_name, dtype: object"
      ]
     },
     "execution_count": 35,
     "metadata": {},
     "output_type": "execute_result"
    }
   ],
   "source": [
    "get_recommendations(\"kegonsatechnologies\", cosine_sim)"
   ]
  },
  {
   "cell_type": "code",
   "execution_count": 36,
   "id": "6478cf93",
   "metadata": {
    "ExecuteTime": {
     "end_time": "2024-06-22T09:57:06.873586Z",
     "start_time": "2024-06-22T09:57:06.868931Z"
    }
   },
   "outputs": [
    {
     "data": {
      "text/plain": [
       "'fanisicapital'"
      ]
     },
     "execution_count": 36,
     "metadata": {},
     "output_type": "execute_result"
    }
   ],
   "source": [
    "df['investor_name'][15278]"
   ]
  },
  {
   "cell_type": "code",
   "execution_count": 37,
   "id": "cb9cfbdf",
   "metadata": {
    "ExecuteTime": {
     "end_time": "2024-06-22T09:57:06.878592Z",
     "start_time": "2024-06-22T09:57:06.874525Z"
    }
   },
   "outputs": [
    {
     "data": {
      "text/plain": [
       "'halton hardware unknown   unknown  series-a'"
      ]
     },
     "execution_count": 37,
     "metadata": {},
     "output_type": "execute_result"
    }
   ],
   "source": [
    "df['metric'][15278]"
   ]
  },
  {
   "cell_type": "code",
   "execution_count": 38,
   "id": "5887c931",
   "metadata": {
    "ExecuteTime": {
     "end_time": "2024-06-22T09:57:06.884389Z",
     "start_time": "2024-06-22T09:57:06.879591Z"
    }
   },
   "outputs": [
    {
     "data": {
      "text/plain": [
       "'holtzbrinck'"
      ]
     },
     "execution_count": 38,
     "metadata": {},
     "output_type": "execute_result"
    }
   ],
   "source": [
    "df['investor_name'][1251]"
   ]
  },
  {
   "cell_type": "code",
   "execution_count": 39,
   "id": "5cc004a3",
   "metadata": {
    "ExecuteTime": {
     "end_time": "2024-06-22T09:57:06.890575Z",
     "start_time": "2024-06-22T09:57:06.885388Z"
    }
   },
   "outputs": [
    {
     "data": {
      "text/plain": [
       "'proximic analytics sfbay   unknown  series-a'"
      ]
     },
     "execution_count": 39,
     "metadata": {},
     "output_type": "execute_result"
    }
   ],
   "source": [
    "df['metric'][1251]"
   ]
  },
  {
   "cell_type": "code",
   "execution_count": 40,
   "id": "482f3508",
   "metadata": {
    "ExecuteTime": {
     "end_time": "2024-06-22T09:57:06.896349Z",
     "start_time": "2024-06-22T09:57:06.891571Z"
    }
   },
   "outputs": [
    {
     "data": {
      "text/plain": [
       "'signetenterprises'"
      ]
     },
     "execution_count": 40,
     "metadata": {},
     "output_type": "execute_result"
    }
   ],
   "source": [
    "df['investor_name'][2303]"
   ]
  },
  {
   "cell_type": "code",
   "execution_count": 41,
   "id": "0bf3d206",
   "metadata": {
    "ExecuteTime": {
     "end_time": "2024-06-22T09:57:06.903597Z",
     "start_time": "2024-06-22T09:57:06.898340Z"
    }
   },
   "outputs": [
    {
     "data": {
      "text/plain": [
       "'northeastohiomedicaluniversity education unknown   unknown  other'"
      ]
     },
     "execution_count": 41,
     "metadata": {},
     "output_type": "execute_result"
    }
   ],
   "source": [
    "df['metric'][2303]"
   ]
  },
  {
   "cell_type": "code",
   "execution_count": 41,
   "id": "e13801c1",
   "metadata": {
    "ExecuteTime": {
     "end_time": "2024-06-22T09:57:06.907570Z",
     "start_time": "2024-06-22T09:57:06.904595Z"
    }
   },
   "outputs": [],
   "source": [
    "import pickle\n",
    "pickle.dump(df,open('models/investors.pkl','wb'))\n",
    "pickle.dump(df2,open('models/invetor_method.pkl','wb'))\n",
    "pickle.dump(cosine_sim,open('models/investor_cosine_sim.pkl','wb'))"
   ]
  }
 ],
 "metadata": {
  "kernelspec": {
   "display_name": "Python 3 (ipykernel)",
   "language": "python",
   "name": "python3"
  },
  "language_info": {
   "codemirror_mode": {
    "name": "ipython",
    "version": 3
   },
   "file_extension": ".py",
   "mimetype": "text/x-python",
   "name": "python",
   "nbconvert_exporter": "python",
   "pygments_lexer": "ipython3",
   "version": "3.11.7"
  }
 },
 "nbformat": 4,
 "nbformat_minor": 5
}
