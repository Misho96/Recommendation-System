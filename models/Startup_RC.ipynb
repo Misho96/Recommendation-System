{
 "cells": [
  {
   "cell_type": "code",
   "metadata": {
    "ExecuteTime": {
     "end_time": "2024-06-22T20:22:33.114237Z",
     "start_time": "2024-06-22T20:22:31.367023Z"
    }
   },
   "source": [
    "import numpy as np\n",
    "import matplotlib.pyplot as plt\n",
    "import pandas as pd"
   ],
   "outputs": [],
   "execution_count": 1
  },
  {
   "cell_type": "code",
   "metadata": {
    "colab": {
     "base_uri": "https://localhost:8080/",
     "height": 496
    },
    "colab_type": "code",
    "id": "c_2HrA-CKlxz",
    "outputId": "2c09ebfa-5bdc-41aa-b8e6-3d9ce31c0146",
    "scrolled": true,
    "ExecuteTime": {
     "end_time": "2024-06-22T20:22:33.303430Z",
     "start_time": "2024-06-22T20:22:33.116243Z"
    }
   },
   "source": [
    "df = pd.read_csv(\"data/crunchbase-investments.csv\", encoding='unicode_escape',low_memory=False)\n",
    "df.info()"
   ],
   "outputs": [
    {
     "name": "stdout",
     "output_type": "stream",
     "text": [
      "<class 'pandas.core.frame.DataFrame'>\n",
      "RangeIndex: 52870 entries, 0 to 52869\n",
      "Data columns (total 20 columns):\n",
      " #   Column                  Non-Null Count  Dtype  \n",
      "---  ------                  --------------  -----  \n",
      " 0   company_permalink       52869 non-null  object \n",
      " 1   company_name            52869 non-null  object \n",
      " 2   company_category_code   52227 non-null  object \n",
      " 3   company_country_code    52869 non-null  object \n",
      " 4   company_state_code      52378 non-null  object \n",
      " 5   company_region          52869 non-null  object \n",
      " 6   company_city            52337 non-null  object \n",
      " 7   investor_permalink      52868 non-null  object \n",
      " 8   investor_name           52868 non-null  object \n",
      " 9   investor_category_code  2443 non-null   object \n",
      " 10  investor_country_code   40869 non-null  object \n",
      " 11  investor_state_code     36061 non-null  object \n",
      " 12  investor_region         52868 non-null  object \n",
      " 13  investor_city           40390 non-null  object \n",
      " 14  funding_round_type      52867 non-null  object \n",
      " 15  funded_at               52867 non-null  object \n",
      " 16  funded_month            52867 non-null  object \n",
      " 17  funded_quarter          52867 non-null  object \n",
      " 18  funded_year             52867 non-null  float64\n",
      " 19  raised_amount_usd       49271 non-null  float64\n",
      "dtypes: float64(2), object(18)\n",
      "memory usage: 8.1+ MB\n"
     ]
    }
   ],
   "execution_count": 2
  },
  {
   "cell_type": "code",
   "metadata": {
    "colab": {
     "base_uri": "https://localhost:8080/",
     "height": 278
    },
    "colab_type": "code",
    "id": "-95fNO5JMA0r",
    "outputId": "aba02e8d-e9c3-4f9d-c44c-750702706606",
    "scrolled": true,
    "ExecuteTime": {
     "end_time": "2024-06-22T20:22:33.323105Z",
     "start_time": "2024-06-22T20:22:33.304429Z"
    }
   },
   "source": [
    "df.head(10)"
   ],
   "outputs": [
    {
     "data": {
      "text/plain": [
       "     company_permalink company_name company_category_code  \\\n",
       "0    /company/advercar     AdverCar           advertising   \n",
       "1  /company/launchgram   LaunchGram                  news   \n",
       "2        /company/utap         uTaP             messaging   \n",
       "3    /company/zoopshop     ZoopShop              software   \n",
       "4    /company/efuneral     eFuneral                   web   \n",
       "5       /company/tackk        Tackk                   web   \n",
       "6    /company/acclaimd     Acclaimd             analytics   \n",
       "7    /company/acclaimd     Acclaimd             analytics   \n",
       "8    /company/toviefor     ToVieFor             ecommerce   \n",
       "9    /company/ohk-labs     OHK Labs                sports   \n",
       "\n",
       "  company_country_code company_state_code         company_region  \\\n",
       "0                  USA                 CA                 SF Bay   \n",
       "1                  USA                 CA                 SF Bay   \n",
       "2                  USA                NaN  United States - Other   \n",
       "3                  USA                 OH               Columbus   \n",
       "4                  USA                 OH              Cleveland   \n",
       "5                  USA                 OH              Cleveland   \n",
       "6                  USA                 OH               Columbus   \n",
       "7                  USA                 OH               Columbus   \n",
       "8                  USA                 NY               New York   \n",
       "9                  USA                 FL             Palm Beach   \n",
       "\n",
       "    company_city                                 investor_permalink  \\\n",
       "0  San Francisco                         /company/1-800-flowers-com   \n",
       "1  Mountain View                               /company/10xelerator   \n",
       "2            NaN                               /company/10xelerator   \n",
       "3       columbus                               /company/10xelerator   \n",
       "4      Cleveland                               /company/10xelerator   \n",
       "5      Cleveland                               /company/10xelerator   \n",
       "6       Columbus                               /company/10xelerator   \n",
       "7       Columbus                               /company/10xelerator   \n",
       "8       New York  /company/2010-nyu-stern-business-plan-competition   \n",
       "9     Boca Raton                           /company/22hundred-group   \n",
       "\n",
       "                              investor_name investor_category_code  \\\n",
       "0                         1-800-FLOWERS.COM                    NaN   \n",
       "1                               10Xelerator                finance   \n",
       "2                               10Xelerator                finance   \n",
       "3                               10Xelerator                finance   \n",
       "4                               10Xelerator                finance   \n",
       "5                               10Xelerator                finance   \n",
       "6                               10Xelerator                finance   \n",
       "7                               10Xelerator                finance   \n",
       "8  2010 NYU Stern Business Plan Competition                    NaN   \n",
       "9                           22Hundred Group                    NaN   \n",
       "\n",
       "  investor_country_code investor_state_code investor_region investor_city  \\\n",
       "0                   USA                  NY        New York      New York   \n",
       "1                   USA                  OH        Columbus      Columbus   \n",
       "2                   USA                  OH        Columbus      Columbus   \n",
       "3                   USA                  OH        Columbus      Columbus   \n",
       "4                   USA                  OH        Columbus      Columbus   \n",
       "5                   USA                  OH        Columbus      Columbus   \n",
       "6                   USA                  OH        Columbus      Columbus   \n",
       "7                   USA                  OH        Columbus      Columbus   \n",
       "8                   NaN                 NaN         unknown           NaN   \n",
       "9                   NaN                 NaN         unknown           NaN   \n",
       "\n",
       "  funding_round_type   funded_at funded_month funded_quarter  funded_year  \\\n",
       "0           series-a  2012-10-30      2012-10        2012-Q4       2012.0   \n",
       "1              other  2012-01-23      2012-01        2012-Q1       2012.0   \n",
       "2              other  2012-01-01      2012-01        2012-Q1       2012.0   \n",
       "3              angel  2012-02-15      2012-02        2012-Q1       2012.0   \n",
       "4              other  2011-09-08      2011-09        2011-Q3       2011.0   \n",
       "5              other  2012-02-01      2012-02        2012-Q1       2012.0   \n",
       "6              angel  2012-06-01      2012-06        2012-Q2       2012.0   \n",
       "7              angel  2012-08-07      2012-08        2012-Q3       2012.0   \n",
       "8              angel  2010-04-01      2010-04        2010-Q2       2010.0   \n",
       "9              angel  2011-09-01      2011-09        2011-Q3       2011.0   \n",
       "\n",
       "   raised_amount_usd  \n",
       "0          2000000.0  \n",
       "1            20000.0  \n",
       "2            20000.0  \n",
       "3            20000.0  \n",
       "4            20000.0  \n",
       "5            20000.0  \n",
       "6            20000.0  \n",
       "7            70000.0  \n",
       "8            75000.0  \n",
       "9           100000.0  "
      ],
      "text/html": [
       "<div>\n",
       "<style scoped>\n",
       "    .dataframe tbody tr th:only-of-type {\n",
       "        vertical-align: middle;\n",
       "    }\n",
       "\n",
       "    .dataframe tbody tr th {\n",
       "        vertical-align: top;\n",
       "    }\n",
       "\n",
       "    .dataframe thead th {\n",
       "        text-align: right;\n",
       "    }\n",
       "</style>\n",
       "<table border=\"1\" class=\"dataframe\">\n",
       "  <thead>\n",
       "    <tr style=\"text-align: right;\">\n",
       "      <th></th>\n",
       "      <th>company_permalink</th>\n",
       "      <th>company_name</th>\n",
       "      <th>company_category_code</th>\n",
       "      <th>company_country_code</th>\n",
       "      <th>company_state_code</th>\n",
       "      <th>company_region</th>\n",
       "      <th>company_city</th>\n",
       "      <th>investor_permalink</th>\n",
       "      <th>investor_name</th>\n",
       "      <th>investor_category_code</th>\n",
       "      <th>investor_country_code</th>\n",
       "      <th>investor_state_code</th>\n",
       "      <th>investor_region</th>\n",
       "      <th>investor_city</th>\n",
       "      <th>funding_round_type</th>\n",
       "      <th>funded_at</th>\n",
       "      <th>funded_month</th>\n",
       "      <th>funded_quarter</th>\n",
       "      <th>funded_year</th>\n",
       "      <th>raised_amount_usd</th>\n",
       "    </tr>\n",
       "  </thead>\n",
       "  <tbody>\n",
       "    <tr>\n",
       "      <th>0</th>\n",
       "      <td>/company/advercar</td>\n",
       "      <td>AdverCar</td>\n",
       "      <td>advertising</td>\n",
       "      <td>USA</td>\n",
       "      <td>CA</td>\n",
       "      <td>SF Bay</td>\n",
       "      <td>San Francisco</td>\n",
       "      <td>/company/1-800-flowers-com</td>\n",
       "      <td>1-800-FLOWERS.COM</td>\n",
       "      <td>NaN</td>\n",
       "      <td>USA</td>\n",
       "      <td>NY</td>\n",
       "      <td>New York</td>\n",
       "      <td>New York</td>\n",
       "      <td>series-a</td>\n",
       "      <td>2012-10-30</td>\n",
       "      <td>2012-10</td>\n",
       "      <td>2012-Q4</td>\n",
       "      <td>2012.0</td>\n",
       "      <td>2000000.0</td>\n",
       "    </tr>\n",
       "    <tr>\n",
       "      <th>1</th>\n",
       "      <td>/company/launchgram</td>\n",
       "      <td>LaunchGram</td>\n",
       "      <td>news</td>\n",
       "      <td>USA</td>\n",
       "      <td>CA</td>\n",
       "      <td>SF Bay</td>\n",
       "      <td>Mountain View</td>\n",
       "      <td>/company/10xelerator</td>\n",
       "      <td>10Xelerator</td>\n",
       "      <td>finance</td>\n",
       "      <td>USA</td>\n",
       "      <td>OH</td>\n",
       "      <td>Columbus</td>\n",
       "      <td>Columbus</td>\n",
       "      <td>other</td>\n",
       "      <td>2012-01-23</td>\n",
       "      <td>2012-01</td>\n",
       "      <td>2012-Q1</td>\n",
       "      <td>2012.0</td>\n",
       "      <td>20000.0</td>\n",
       "    </tr>\n",
       "    <tr>\n",
       "      <th>2</th>\n",
       "      <td>/company/utap</td>\n",
       "      <td>uTaP</td>\n",
       "      <td>messaging</td>\n",
       "      <td>USA</td>\n",
       "      <td>NaN</td>\n",
       "      <td>United States - Other</td>\n",
       "      <td>NaN</td>\n",
       "      <td>/company/10xelerator</td>\n",
       "      <td>10Xelerator</td>\n",
       "      <td>finance</td>\n",
       "      <td>USA</td>\n",
       "      <td>OH</td>\n",
       "      <td>Columbus</td>\n",
       "      <td>Columbus</td>\n",
       "      <td>other</td>\n",
       "      <td>2012-01-01</td>\n",
       "      <td>2012-01</td>\n",
       "      <td>2012-Q1</td>\n",
       "      <td>2012.0</td>\n",
       "      <td>20000.0</td>\n",
       "    </tr>\n",
       "    <tr>\n",
       "      <th>3</th>\n",
       "      <td>/company/zoopshop</td>\n",
       "      <td>ZoopShop</td>\n",
       "      <td>software</td>\n",
       "      <td>USA</td>\n",
       "      <td>OH</td>\n",
       "      <td>Columbus</td>\n",
       "      <td>columbus</td>\n",
       "      <td>/company/10xelerator</td>\n",
       "      <td>10Xelerator</td>\n",
       "      <td>finance</td>\n",
       "      <td>USA</td>\n",
       "      <td>OH</td>\n",
       "      <td>Columbus</td>\n",
       "      <td>Columbus</td>\n",
       "      <td>angel</td>\n",
       "      <td>2012-02-15</td>\n",
       "      <td>2012-02</td>\n",
       "      <td>2012-Q1</td>\n",
       "      <td>2012.0</td>\n",
       "      <td>20000.0</td>\n",
       "    </tr>\n",
       "    <tr>\n",
       "      <th>4</th>\n",
       "      <td>/company/efuneral</td>\n",
       "      <td>eFuneral</td>\n",
       "      <td>web</td>\n",
       "      <td>USA</td>\n",
       "      <td>OH</td>\n",
       "      <td>Cleveland</td>\n",
       "      <td>Cleveland</td>\n",
       "      <td>/company/10xelerator</td>\n",
       "      <td>10Xelerator</td>\n",
       "      <td>finance</td>\n",
       "      <td>USA</td>\n",
       "      <td>OH</td>\n",
       "      <td>Columbus</td>\n",
       "      <td>Columbus</td>\n",
       "      <td>other</td>\n",
       "      <td>2011-09-08</td>\n",
       "      <td>2011-09</td>\n",
       "      <td>2011-Q3</td>\n",
       "      <td>2011.0</td>\n",
       "      <td>20000.0</td>\n",
       "    </tr>\n",
       "    <tr>\n",
       "      <th>5</th>\n",
       "      <td>/company/tackk</td>\n",
       "      <td>Tackk</td>\n",
       "      <td>web</td>\n",
       "      <td>USA</td>\n",
       "      <td>OH</td>\n",
       "      <td>Cleveland</td>\n",
       "      <td>Cleveland</td>\n",
       "      <td>/company/10xelerator</td>\n",
       "      <td>10Xelerator</td>\n",
       "      <td>finance</td>\n",
       "      <td>USA</td>\n",
       "      <td>OH</td>\n",
       "      <td>Columbus</td>\n",
       "      <td>Columbus</td>\n",
       "      <td>other</td>\n",
       "      <td>2012-02-01</td>\n",
       "      <td>2012-02</td>\n",
       "      <td>2012-Q1</td>\n",
       "      <td>2012.0</td>\n",
       "      <td>20000.0</td>\n",
       "    </tr>\n",
       "    <tr>\n",
       "      <th>6</th>\n",
       "      <td>/company/acclaimd</td>\n",
       "      <td>Acclaimd</td>\n",
       "      <td>analytics</td>\n",
       "      <td>USA</td>\n",
       "      <td>OH</td>\n",
       "      <td>Columbus</td>\n",
       "      <td>Columbus</td>\n",
       "      <td>/company/10xelerator</td>\n",
       "      <td>10Xelerator</td>\n",
       "      <td>finance</td>\n",
       "      <td>USA</td>\n",
       "      <td>OH</td>\n",
       "      <td>Columbus</td>\n",
       "      <td>Columbus</td>\n",
       "      <td>angel</td>\n",
       "      <td>2012-06-01</td>\n",
       "      <td>2012-06</td>\n",
       "      <td>2012-Q2</td>\n",
       "      <td>2012.0</td>\n",
       "      <td>20000.0</td>\n",
       "    </tr>\n",
       "    <tr>\n",
       "      <th>7</th>\n",
       "      <td>/company/acclaimd</td>\n",
       "      <td>Acclaimd</td>\n",
       "      <td>analytics</td>\n",
       "      <td>USA</td>\n",
       "      <td>OH</td>\n",
       "      <td>Columbus</td>\n",
       "      <td>Columbus</td>\n",
       "      <td>/company/10xelerator</td>\n",
       "      <td>10Xelerator</td>\n",
       "      <td>finance</td>\n",
       "      <td>USA</td>\n",
       "      <td>OH</td>\n",
       "      <td>Columbus</td>\n",
       "      <td>Columbus</td>\n",
       "      <td>angel</td>\n",
       "      <td>2012-08-07</td>\n",
       "      <td>2012-08</td>\n",
       "      <td>2012-Q3</td>\n",
       "      <td>2012.0</td>\n",
       "      <td>70000.0</td>\n",
       "    </tr>\n",
       "    <tr>\n",
       "      <th>8</th>\n",
       "      <td>/company/toviefor</td>\n",
       "      <td>ToVieFor</td>\n",
       "      <td>ecommerce</td>\n",
       "      <td>USA</td>\n",
       "      <td>NY</td>\n",
       "      <td>New York</td>\n",
       "      <td>New York</td>\n",
       "      <td>/company/2010-nyu-stern-business-plan-competition</td>\n",
       "      <td>2010 NYU Stern Business Plan Competition</td>\n",
       "      <td>NaN</td>\n",
       "      <td>NaN</td>\n",
       "      <td>NaN</td>\n",
       "      <td>unknown</td>\n",
       "      <td>NaN</td>\n",
       "      <td>angel</td>\n",
       "      <td>2010-04-01</td>\n",
       "      <td>2010-04</td>\n",
       "      <td>2010-Q2</td>\n",
       "      <td>2010.0</td>\n",
       "      <td>75000.0</td>\n",
       "    </tr>\n",
       "    <tr>\n",
       "      <th>9</th>\n",
       "      <td>/company/ohk-labs</td>\n",
       "      <td>OHK Labs</td>\n",
       "      <td>sports</td>\n",
       "      <td>USA</td>\n",
       "      <td>FL</td>\n",
       "      <td>Palm Beach</td>\n",
       "      <td>Boca Raton</td>\n",
       "      <td>/company/22hundred-group</td>\n",
       "      <td>22Hundred Group</td>\n",
       "      <td>NaN</td>\n",
       "      <td>NaN</td>\n",
       "      <td>NaN</td>\n",
       "      <td>unknown</td>\n",
       "      <td>NaN</td>\n",
       "      <td>angel</td>\n",
       "      <td>2011-09-01</td>\n",
       "      <td>2011-09</td>\n",
       "      <td>2011-Q3</td>\n",
       "      <td>2011.0</td>\n",
       "      <td>100000.0</td>\n",
       "    </tr>\n",
       "  </tbody>\n",
       "</table>\n",
       "</div>"
      ]
     },
     "execution_count": 3,
     "metadata": {},
     "output_type": "execute_result"
    }
   ],
   "execution_count": 3
  },
  {
   "cell_type": "markdown",
   "metadata": {},
   "source": [
    "##  Data Analysis and Data Visualization "
   ]
  },
  {
   "cell_type": "markdown",
   "metadata": {},
   "source": [
    "#### Trends over the year"
   ]
  },
  {
   "cell_type": "code",
   "metadata": {
    "scrolled": false,
    "ExecuteTime": {
     "end_time": "2024-06-22T20:22:33.627635Z",
     "start_time": "2024-06-22T20:22:33.324102Z"
    }
   },
   "source": [
    "df.raised_amount_usd.groupby(df.funded_year).count().plot(kind='line')\n",
    "plt.xlabel('Funded Year')\n",
    "plt.ylabel('Count')\n",
    "plt.title('Trends over the year')\n",
    "#plt.xlim(10.5,16.5)"
   ],
   "outputs": [
    {
     "data": {
      "text/plain": [
       "Text(0.5, 1.0, 'Trends over the year')"
      ]
     },
     "execution_count": 4,
     "metadata": {},
     "output_type": "execute_result"
    },
    {
     "data": {
      "text/plain": [
       "<Figure size 640x480 with 1 Axes>"
      ],
      "image/png": "[encoded data removed]"
     },
     "metadata": {},
     "output_type": "display_data"
    }
   ],
   "execution_count": 4
  },
  {
   "cell_type": "code",
   "metadata": {
    "scrolled": false,
    "ExecuteTime": {
     "end_time": "2024-06-22T20:22:33.808789Z",
     "start_time": "2024-06-22T20:22:33.628649Z"
    }
   },
   "source": [
    "df.funded_year.groupby(df.funding_round_type).count().plot(kind='bar', color = 'navy')\n",
    "plt.xlabel('Funding round type')\n",
    "plt.ylabel('Number of Companies')\n",
    "plt.title('Categorization based on type')"
   ],
   "outputs": [
    {
     "data": {
      "text/plain": [
       "Text(0.5, 1.0, 'Categorization based on type')"
      ]
     },
     "execution_count": 5,
     "metadata": {},
     "output_type": "execute_result"
    },
    {
     "data": {
      "text/plain": [
       "<Figure size 640x480 with 1 Axes>"
      ],
      "image/png": "[encoded data removed]"
     },
     "metadata": {},
     "output_type": "display_data"
    }
   ],
   "execution_count": 5
  },
  {
   "cell_type": "code",
   "metadata": {
    "ExecuteTime": {
     "end_time": "2024-06-22T20:22:33.818981Z",
     "start_time": "2024-06-22T20:22:33.810802Z"
    }
   },
   "source": [
    "print(df.funded_year.groupby(df.funding_round_type).count())"
   ],
   "outputs": [
    {
     "name": "stdout",
     "output_type": "stream",
     "text": [
      "funding_round_type\n",
      "angel              8989\n",
      "crowdfunding          5\n",
      "other               964\n",
      "post-ipo             33\n",
      "private-equity      357\n",
      "series-a          13938\n",
      "series-b           8794\n",
      "series-c+         10870\n",
      "venture            8917\n",
      "Name: funded_year, dtype: int64\n"
     ]
    }
   ],
   "execution_count": 6
  },
  {
   "cell_type": "markdown",
   "metadata": {},
   "source": [
    "#### Huge Valued Startups\n"
   ]
  },
  {
   "cell_type": "code",
   "metadata": {
    "ExecuteTime": {
     "end_time": "2024-06-22T20:22:33.900149Z",
     "start_time": "2024-06-22T20:22:33.819991Z"
    }
   },
   "source": [
    "df.company_name.groupby(df.raised_amount_usd).max().sort_values(ascending=False)"
   ],
   "outputs": [
    {
     "data": {
      "text/plain": [
       "raised_amount_usd\n",
       "43000000.0             zulily\n",
       "85000000.0             zulily\n",
       "4600000.0              zulily\n",
       "6000000.0              zulily\n",
       "3000000.0                zozi\n",
       "                    ...      \n",
       "6567000.0         ACT Biotech\n",
       "249000000.0      A123 Systems\n",
       "47566.0         7billionideas\n",
       "10070000.0     41st Parameter\n",
       "939000.0                 2sms\n",
       "Name: company_name, Length: 1458, dtype: object"
      ]
     },
     "execution_count": 7,
     "metadata": {},
     "output_type": "execute_result"
    }
   ],
   "execution_count": 7
  },
  {
   "cell_type": "markdown",
   "metadata": {},
   "source": [
    "#### Preferred Investment Location"
   ]
  },
  {
   "cell_type": "code",
   "metadata": {
    "ExecuteTime": {
     "end_time": "2024-06-22T20:22:34.127635Z",
     "start_time": "2024-06-22T20:22:33.901145Z"
    }
   },
   "source": [
    "pref_loc = df.raised_amount_usd.groupby(df.company_state_code).count().sort_values(ascending = False).plot(kind='barh')\n",
    "print(pref_loc)\n",
    "plt.ylim(-1,7.5)\n",
    "plt.ylabel('State in USA')\n",
    "plt.xlabel('Count')\n",
    "plt.title('Preffered Investment Location')"
   ],
   "outputs": [
    {
     "name": "stdout",
     "output_type": "stream",
     "text": [
      "Axes(0.125,0.11;0.775x0.77)\n"
     ]
    },
    {
     "data": {
      "text/plain": [
       "Text(0.5, 1.0, 'Preffered Investment Location')"
      ]
     },
     "execution_count": 8,
     "metadata": {},
     "output_type": "execute_result"
    },
    {
     "data": {
      "text/plain": [
       "<Figure size 640x480 with 1 Axes>"
      ],
      "image/png": "[encoded data removed]"
     },
     "metadata": {},
     "output_type": "display_data"
    }
   ],
   "execution_count": 8
  },
  {
   "cell_type": "markdown",
   "metadata": {},
   "source": [
    "#### Breakdown of Industries"
   ]
  },
  {
   "cell_type": "code",
   "metadata": {
    "ExecuteTime": {
     "end_time": "2024-06-22T20:22:34.502940Z",
     "start_time": "2024-06-22T20:22:34.128648Z"
    }
   },
   "source": [
    "df.investor_category_code.groupby(df.investor_category_code).count().sort_values(ascending = False).plot(kind= 'bar', stacked= True, color='orange', label='Investor')\n",
    "df.company_category_code.groupby(df.company_category_code).count().sort_values(ascending = False).plot(kind= 'bar', stacked= True, color='green', label ='Company')\n",
    "plt.legend(loc='upper right')\n",
    "plt.xlim(-1,10.5)\n",
    "plt.title('Breakdown of the Industries')\n",
    "plt.xlabel('Investor/Company Category')\n",
    "plt.ylabel('Ratio of Investor to Company')\n",
    "plt.savefig(\"Industries.png\")\n",
    "\n"
   ],
   "outputs": [
    {
     "data": {
      "text/plain": [
       "<Figure size 640x480 with 1 Axes>"
      ],
      "image/png": "[encoded data removed]"
     },
     "metadata": {},
     "output_type": "display_data"
    }
   ],
   "execution_count": 9
  },
  {
   "cell_type": "code",
   "metadata": {
    "colab": {},
    "colab_type": "code",
    "id": "oyRpE4IcKtUX",
    "ExecuteTime": {
     "end_time": "2024-06-22T20:22:34.511009Z",
     "start_time": "2024-06-22T20:22:34.503941Z"
    }
   },
   "source": [
    "df=df.drop(['company_permalink','investor_permalink',\n",
    "       'investor_category_code',\n",
    "        'funded_at', 'funded_month', 'funded_quarter',\n",
    "       'funded_year','investor_state_code','investor_country_code','investor_city','raised_amount_usd'],axis=1)"
   ],
   "outputs": [],
   "execution_count": 10
  },
  {
   "cell_type": "code",
   "metadata": {
    "colab": {
     "base_uri": "https://localhost:8080/",
     "height": 187
    },
    "colab_type": "code",
    "id": "-kWQ-JkdLNJk",
    "outputId": "7299eb44-8772-4d9f-e709-b98772cdae21",
    "ExecuteTime": {
     "end_time": "2024-06-22T20:22:34.536391Z",
     "start_time": "2024-06-22T20:22:34.512003Z"
    }
   },
   "source": [
    "df.nunique()"
   ],
   "outputs": [
    {
     "data": {
      "text/plain": [
       "company_name             11573\n",
       "company_category_code       43\n",
       "company_country_code         2\n",
       "company_state_code          50\n",
       "company_region             546\n",
       "company_city              1229\n",
       "investor_name            10465\n",
       "investor_region            585\n",
       "funding_round_type           9\n",
       "dtype: int64"
      ]
     },
     "execution_count": 11,
     "metadata": {},
     "output_type": "execute_result"
    }
   ],
   "execution_count": 11
  },
  {
   "cell_type": "code",
   "metadata": {
    "colab": {
     "base_uri": "https://localhost:8080/",
     "height": 187
    },
    "colab_type": "code",
    "id": "rpO--_a_LNGr",
    "outputId": "5d2ba28d-a9b3-48c8-d8c6-d5121fdc1909",
    "ExecuteTime": {
     "end_time": "2024-06-22T20:22:34.553485Z",
     "start_time": "2024-06-22T20:22:34.537387Z"
    }
   },
   "source": [
    "df.isnull().sum()"
   ],
   "outputs": [
    {
     "data": {
      "text/plain": [
       "company_name               1\n",
       "company_category_code    643\n",
       "company_country_code       1\n",
       "company_state_code       492\n",
       "company_region             1\n",
       "company_city             533\n",
       "investor_name              2\n",
       "investor_region            2\n",
       "funding_round_type         3\n",
       "dtype: int64"
      ]
     },
     "execution_count": 12,
     "metadata": {},
     "output_type": "execute_result"
    }
   ],
   "execution_count": 12
  },
  {
   "cell_type": "code",
   "metadata": {
    "colab": {},
    "colab_type": "code",
    "id": "J1Il5K24LNES",
    "ExecuteTime": {
     "end_time": "2024-06-22T20:22:34.578518Z",
     "start_time": "2024-06-22T20:22:34.554484Z"
    }
   },
   "source": [
    "df=df.dropna(axis=0, subset=['company_category_code','company_state_code','company_country_code','company_region','company_city','funding_round_type','company_name','investor_name','investor_region'])"
   ],
   "outputs": [],
   "execution_count": 13
  },
  {
   "cell_type": "code",
   "metadata": {
    "colab": {
     "base_uri": "https://localhost:8080/",
     "height": 187
    },
    "colab_type": "code",
    "id": "vEenhpjmLNBY",
    "outputId": "bd066803-dac1-40e7-c40e-f809778785b5",
    "ExecuteTime": {
     "end_time": "2024-06-22T20:22:34.595606Z",
     "start_time": "2024-06-22T20:22:34.579503Z"
    }
   },
   "source": [
    "df.isnull().sum()"
   ],
   "outputs": [
    {
     "data": {
      "text/plain": [
       "company_name             0\n",
       "company_category_code    0\n",
       "company_country_code     0\n",
       "company_state_code       0\n",
       "company_region           0\n",
       "company_city             0\n",
       "investor_name            0\n",
       "investor_region          0\n",
       "funding_round_type       0\n",
       "dtype: int64"
      ]
     },
     "execution_count": 14,
     "metadata": {},
     "output_type": "execute_result"
    }
   ],
   "execution_count": 14
  },
  {
   "cell_type": "code",
   "metadata": {
    "colab": {
     "base_uri": "https://localhost:8080/",
     "height": 34
    },
    "colab_type": "code",
    "id": "m3MQx2XPLM-g",
    "outputId": "f7a0309b-683b-4412-b47a-4a428b91d53d",
    "ExecuteTime": {
     "end_time": "2024-06-22T20:22:34.601619Z",
     "start_time": "2024-06-22T20:22:34.596600Z"
    }
   },
   "source": [
    "df.shape"
   ],
   "outputs": [
    {
     "data": {
      "text/plain": [
       "(51468, 9)"
      ]
     },
     "execution_count": 15,
     "metadata": {},
     "output_type": "execute_result"
    }
   ],
   "execution_count": 15
  },
  {
   "cell_type": "code",
   "metadata": {
    "colab": {
     "base_uri": "https://localhost:8080/",
     "height": 34
    },
    "colab_type": "code",
    "id": "13FioM2lLM7n",
    "outputId": "40322c43-b939-49cc-c44e-0ae47e3897de",
    "ExecuteTime": {
     "end_time": "2024-06-22T20:22:34.642335Z",
     "start_time": "2024-06-22T20:22:34.602617Z"
    }
   },
   "source": [
    "df.duplicated().sum()"
   ],
   "outputs": [
    {
     "data": {
      "text/plain": [
       "3824"
      ]
     },
     "execution_count": 16,
     "metadata": {},
     "output_type": "execute_result"
    }
   ],
   "execution_count": 16
  },
  {
   "cell_type": "code",
   "metadata": {
    "ExecuteTime": {
     "end_time": "2024-06-22T20:22:34.652358Z",
     "start_time": "2024-06-22T20:22:34.643335Z"
    }
   },
   "source": [
    "df = df.drop_duplicates(subset='company_name', keep='first')"
   ],
   "outputs": [],
   "execution_count": 17
  },
  {
   "cell_type": "code",
   "metadata": {
    "ExecuteTime": {
     "end_time": "2024-06-22T20:22:34.661356Z",
     "start_time": "2024-06-22T20:22:34.656354Z"
    }
   },
   "source": [
    "df.shape"
   ],
   "outputs": [
    {
     "data": {
      "text/plain": [
       "(11058, 9)"
      ]
     },
     "execution_count": 18,
     "metadata": {},
     "output_type": "execute_result"
    }
   ],
   "execution_count": 18
  },
  {
   "cell_type": "code",
   "metadata": {
    "ExecuteTime": {
     "end_time": "2024-06-22T20:22:34.674862Z",
     "start_time": "2024-06-22T20:22:34.662356Z"
    }
   },
   "source": [
    "df.duplicated().sum()"
   ],
   "outputs": [
    {
     "data": {
      "text/plain": [
       "0"
      ]
     },
     "execution_count": 19,
     "metadata": {},
     "output_type": "execute_result"
    }
   ],
   "execution_count": 19
  },
  {
   "cell_type": "code",
   "metadata": {
    "colab": {},
    "colab_type": "code",
    "id": "hITHCC_GLmdF",
    "ExecuteTime": {
     "end_time": "2024-06-22T20:22:34.679862Z",
     "start_time": "2024-06-22T20:22:34.675862Z"
    }
   },
   "source": [
    "df1=df"
   ],
   "outputs": [],
   "execution_count": 20
  },
  {
   "cell_type": "code",
   "metadata": {
    "colab": {
     "base_uri": "https://localhost:8080/",
     "height": 261
    },
    "colab_type": "code",
    "id": "qXopIDJ6LmaQ",
    "outputId": "da400857-0fbd-4d89-8e9f-291aedfcfc49",
    "ExecuteTime": {
     "end_time": "2024-06-22T20:22:34.691271Z",
     "start_time": "2024-06-22T20:22:34.681738Z"
    }
   },
   "source": [
    "df1.head()"
   ],
   "outputs": [
    {
     "data": {
      "text/plain": [
       "  company_name company_category_code company_country_code company_state_code  \\\n",
       "0     AdverCar           advertising                  USA                 CA   \n",
       "1   LaunchGram                  news                  USA                 CA   \n",
       "3     ZoopShop              software                  USA                 OH   \n",
       "4     eFuneral                   web                  USA                 OH   \n",
       "5        Tackk                   web                  USA                 OH   \n",
       "\n",
       "  company_region   company_city      investor_name investor_region  \\\n",
       "0         SF Bay  San Francisco  1-800-FLOWERS.COM        New York   \n",
       "1         SF Bay  Mountain View        10Xelerator        Columbus   \n",
       "3       Columbus       columbus        10Xelerator        Columbus   \n",
       "4      Cleveland      Cleveland        10Xelerator        Columbus   \n",
       "5      Cleveland      Cleveland        10Xelerator        Columbus   \n",
       "\n",
       "  funding_round_type  \n",
       "0           series-a  \n",
       "1              other  \n",
       "3              angel  \n",
       "4              other  \n",
       "5              other  "
      ],
      "text/html": [
       "<div>\n",
       "<style scoped>\n",
       "    .dataframe tbody tr th:only-of-type {\n",
       "        vertical-align: middle;\n",
       "    }\n",
       "\n",
       "    .dataframe tbody tr th {\n",
       "        vertical-align: top;\n",
       "    }\n",
       "\n",
       "    .dataframe thead th {\n",
       "        text-align: right;\n",
       "    }\n",
       "</style>\n",
       "<table border=\"1\" class=\"dataframe\">\n",
       "  <thead>\n",
       "    <tr style=\"text-align: right;\">\n",
       "      <th></th>\n",
       "      <th>company_name</th>\n",
       "      <th>company_category_code</th>\n",
       "      <th>company_country_code</th>\n",
       "      <th>company_state_code</th>\n",
       "      <th>company_region</th>\n",
       "      <th>company_city</th>\n",
       "      <th>investor_name</th>\n",
       "      <th>investor_region</th>\n",
       "      <th>funding_round_type</th>\n",
       "    </tr>\n",
       "  </thead>\n",
       "  <tbody>\n",
       "    <tr>\n",
       "      <th>0</th>\n",
       "      <td>AdverCar</td>\n",
       "      <td>advertising</td>\n",
       "      <td>USA</td>\n",
       "      <td>CA</td>\n",
       "      <td>SF Bay</td>\n",
       "      <td>San Francisco</td>\n",
       "      <td>1-800-FLOWERS.COM</td>\n",
       "      <td>New York</td>\n",
       "      <td>series-a</td>\n",
       "    </tr>\n",
       "    <tr>\n",
       "      <th>1</th>\n",
       "      <td>LaunchGram</td>\n",
       "      <td>news</td>\n",
       "      <td>USA</td>\n",
       "      <td>CA</td>\n",
       "      <td>SF Bay</td>\n",
       "      <td>Mountain View</td>\n",
       "      <td>10Xelerator</td>\n",
       "      <td>Columbus</td>\n",
       "      <td>other</td>\n",
       "    </tr>\n",
       "    <tr>\n",
       "      <th>3</th>\n",
       "      <td>ZoopShop</td>\n",
       "      <td>software</td>\n",
       "      <td>USA</td>\n",
       "      <td>OH</td>\n",
       "      <td>Columbus</td>\n",
       "      <td>columbus</td>\n",
       "      <td>10Xelerator</td>\n",
       "      <td>Columbus</td>\n",
       "      <td>angel</td>\n",
       "    </tr>\n",
       "    <tr>\n",
       "      <th>4</th>\n",
       "      <td>eFuneral</td>\n",
       "      <td>web</td>\n",
       "      <td>USA</td>\n",
       "      <td>OH</td>\n",
       "      <td>Cleveland</td>\n",
       "      <td>Cleveland</td>\n",
       "      <td>10Xelerator</td>\n",
       "      <td>Columbus</td>\n",
       "      <td>other</td>\n",
       "    </tr>\n",
       "    <tr>\n",
       "      <th>5</th>\n",
       "      <td>Tackk</td>\n",
       "      <td>web</td>\n",
       "      <td>USA</td>\n",
       "      <td>OH</td>\n",
       "      <td>Cleveland</td>\n",
       "      <td>Cleveland</td>\n",
       "      <td>10Xelerator</td>\n",
       "      <td>Columbus</td>\n",
       "      <td>other</td>\n",
       "    </tr>\n",
       "  </tbody>\n",
       "</table>\n",
       "</div>"
      ]
     },
     "execution_count": 21,
     "metadata": {},
     "output_type": "execute_result"
    }
   ],
   "execution_count": 21
  },
  {
   "cell_type": "code",
   "metadata": {
    "colab": {},
    "colab_type": "code",
    "id": "gRT8vPP2PPe0",
    "ExecuteTime": {
     "end_time": "2024-06-22T20:22:34.696875Z",
     "start_time": "2024-06-22T20:22:34.692328Z"
    }
   },
   "source": [
    "def clean_data(x):\n",
    "    if isinstance(x, list):\n",
    "        return [str.lower(i.replace(\" \", \"\")) for i in x]\n",
    "    else:\n",
    "        if isinstance(x, str):\n",
    "            return str.lower(x.replace(\" \", \"\"))\n",
    "        else:\n",
    "            return ''"
   ],
   "outputs": [],
   "execution_count": 22
  },
  {
   "cell_type": "code",
   "metadata": {
    "ExecuteTime": {
     "end_time": "2024-06-22T20:22:34.702873Z",
     "start_time": "2024-06-22T20:22:34.697872Z"
    }
   },
   "source": [
    "df.columns"
   ],
   "outputs": [
    {
     "data": {
      "text/plain": [
       "Index(['company_name', 'company_category_code', 'company_country_code',\n",
       "       'company_state_code', 'company_region', 'company_city', 'investor_name',\n",
       "       'investor_region', 'funding_round_type'],\n",
       "      dtype='object')"
      ]
     },
     "execution_count": 23,
     "metadata": {},
     "output_type": "execute_result"
    }
   ],
   "execution_count": 23
  },
  {
   "cell_type": "markdown",
   "metadata": {},
   "source": [
    "## Content Based Recommender System"
   ]
  },
  {
   "cell_type": "code",
   "metadata": {
    "ExecuteTime": {
     "end_time": "2024-06-22T20:22:34.707295Z",
     "start_time": "2024-06-22T20:22:34.703874Z"
    }
   },
   "source": [
    "features = ['company_name','company_category_code', 'company_country_code',\n",
    "       'company_state_code', 'company_region', 'company_city', 'investor_name',\n",
    "       'investor_region', 'funding_round_type']"
   ],
   "outputs": [],
   "execution_count": 24
  },
  {
   "cell_type": "code",
   "metadata": {
    "colab": {},
    "colab_type": "code",
    "id": "r45bkSzOO1xf",
    "ExecuteTime": {
     "end_time": "2024-06-22T20:22:34.747154Z",
     "start_time": "2024-06-22T20:22:34.708294Z"
    }
   },
   "source": [
    "for feature in features:\n",
    "    df1[feature] = df1[feature].apply(clean_data)"
   ],
   "outputs": [],
   "execution_count": 25
  },
  {
   "cell_type": "code",
   "metadata": {
    "colab": {
     "base_uri": "https://localhost:8080/",
     "height": 261
    },
    "colab_type": "code",
    "id": "U8Qf-CHDO1ug",
    "outputId": "9025e266-681b-45d1-feda-7184591d3768",
    "ExecuteTime": {
     "end_time": "2024-06-22T20:22:34.757278Z",
     "start_time": "2024-06-22T20:22:34.748152Z"
    }
   },
   "source": [
    "df1.head()"
   ],
   "outputs": [
    {
     "data": {
      "text/plain": [
       "  company_name company_category_code company_country_code company_state_code  \\\n",
       "0     advercar           advertising                  usa                 ca   \n",
       "1   launchgram                  news                  usa                 ca   \n",
       "3     zoopshop              software                  usa                 oh   \n",
       "4     efuneral                   web                  usa                 oh   \n",
       "5        tackk                   web                  usa                 oh   \n",
       "\n",
       "  company_region  company_city      investor_name investor_region  \\\n",
       "0          sfbay  sanfrancisco  1-800-flowers.com         newyork   \n",
       "1          sfbay  mountainview        10xelerator        columbus   \n",
       "3       columbus      columbus        10xelerator        columbus   \n",
       "4      cleveland     cleveland        10xelerator        columbus   \n",
       "5      cleveland     cleveland        10xelerator        columbus   \n",
       "\n",
       "  funding_round_type  \n",
       "0           series-a  \n",
       "1              other  \n",
       "3              angel  \n",
       "4              other  \n",
       "5              other  "
      ],
      "text/html": [
       "<div>\n",
       "<style scoped>\n",
       "    .dataframe tbody tr th:only-of-type {\n",
       "        vertical-align: middle;\n",
       "    }\n",
       "\n",
       "    .dataframe tbody tr th {\n",
       "        vertical-align: top;\n",
       "    }\n",
       "\n",
       "    .dataframe thead th {\n",
       "        text-align: right;\n",
       "    }\n",
       "</style>\n",
       "<table border=\"1\" class=\"dataframe\">\n",
       "  <thead>\n",
       "    <tr style=\"text-align: right;\">\n",
       "      <th></th>\n",
       "      <th>company_name</th>\n",
       "      <th>company_category_code</th>\n",
       "      <th>company_country_code</th>\n",
       "      <th>company_state_code</th>\n",
       "      <th>company_region</th>\n",
       "      <th>company_city</th>\n",
       "      <th>investor_name</th>\n",
       "      <th>investor_region</th>\n",
       "      <th>funding_round_type</th>\n",
       "    </tr>\n",
       "  </thead>\n",
       "  <tbody>\n",
       "    <tr>\n",
       "      <th>0</th>\n",
       "      <td>advercar</td>\n",
       "      <td>advertising</td>\n",
       "      <td>usa</td>\n",
       "      <td>ca</td>\n",
       "      <td>sfbay</td>\n",
       "      <td>sanfrancisco</td>\n",
       "      <td>1-800-flowers.com</td>\n",
       "      <td>newyork</td>\n",
       "      <td>series-a</td>\n",
       "    </tr>\n",
       "    <tr>\n",
       "      <th>1</th>\n",
       "      <td>launchgram</td>\n",
       "      <td>news</td>\n",
       "      <td>usa</td>\n",
       "      <td>ca</td>\n",
       "      <td>sfbay</td>\n",
       "      <td>mountainview</td>\n",
       "      <td>10xelerator</td>\n",
       "      <td>columbus</td>\n",
       "      <td>other</td>\n",
       "    </tr>\n",
       "    <tr>\n",
       "      <th>3</th>\n",
       "      <td>zoopshop</td>\n",
       "      <td>software</td>\n",
       "      <td>usa</td>\n",
       "      <td>oh</td>\n",
       "      <td>columbus</td>\n",
       "      <td>columbus</td>\n",
       "      <td>10xelerator</td>\n",
       "      <td>columbus</td>\n",
       "      <td>angel</td>\n",
       "    </tr>\n",
       "    <tr>\n",
       "      <th>4</th>\n",
       "      <td>efuneral</td>\n",
       "      <td>web</td>\n",
       "      <td>usa</td>\n",
       "      <td>oh</td>\n",
       "      <td>cleveland</td>\n",
       "      <td>cleveland</td>\n",
       "      <td>10xelerator</td>\n",
       "      <td>columbus</td>\n",
       "      <td>other</td>\n",
       "    </tr>\n",
       "    <tr>\n",
       "      <th>5</th>\n",
       "      <td>tackk</td>\n",
       "      <td>web</td>\n",
       "      <td>usa</td>\n",
       "      <td>oh</td>\n",
       "      <td>cleveland</td>\n",
       "      <td>cleveland</td>\n",
       "      <td>10xelerator</td>\n",
       "      <td>columbus</td>\n",
       "      <td>other</td>\n",
       "    </tr>\n",
       "  </tbody>\n",
       "</table>\n",
       "</div>"
      ]
     },
     "execution_count": 26,
     "metadata": {},
     "output_type": "execute_result"
    }
   ],
   "execution_count": 26
  },
  {
   "cell_type": "code",
   "metadata": {
    "colab": {
     "base_uri": "https://localhost:8080/",
     "height": 85
    },
    "colab_type": "code",
    "id": "NB_0oFWMQx1z",
    "outputId": "8b7174e0-006d-4fb4-9817-becc583a954c",
    "ExecuteTime": {
     "end_time": "2024-06-22T20:22:34.763306Z",
     "start_time": "2024-06-22T20:22:34.758276Z"
    }
   },
   "source": [
    "df1.columns"
   ],
   "outputs": [
    {
     "data": {
      "text/plain": [
       "Index(['company_name', 'company_category_code', 'company_country_code',\n",
       "       'company_state_code', 'company_region', 'company_city', 'investor_name',\n",
       "       'investor_region', 'funding_round_type'],\n",
       "      dtype='object')"
      ]
     },
     "execution_count": 27,
     "metadata": {},
     "output_type": "execute_result"
    }
   ],
   "execution_count": 27
  },
  {
   "cell_type": "code",
   "metadata": {
    "colab": {},
    "colab_type": "code",
    "id": "TsdFPWe3O1ow",
    "ExecuteTime": {
     "end_time": "2024-06-22T20:22:34.839956Z",
     "start_time": "2024-06-22T20:22:34.764295Z"
    }
   },
   "source": [
    "df['metric'] = df[['company_category_code', 'company_country_code',\n",
    "       'company_state_code', 'company_region', 'company_city', 'investor_name',\n",
    "       'investor_region', 'funding_round_type']].apply(lambda x: \" \".join(x), axis=1)"
   ],
   "outputs": [],
   "execution_count": 28
  },
  {
   "cell_type": "code",
   "metadata": {
    "colab": {
     "base_uri": "https://localhost:8080/",
     "height": 119
    },
    "colab_type": "code",
    "id": "yGPgINwAO1mJ",
    "outputId": "5a12f380-b5fe-44e8-87fc-0076bb9092e6",
    "ExecuteTime": {
     "end_time": "2024-06-22T20:22:34.846952Z",
     "start_time": "2024-06-22T20:22:34.840955Z"
    }
   },
   "source": [
    "df1.metric[3]"
   ],
   "outputs": [
    {
     "data": {
      "text/plain": [
       "'software usa oh columbus columbus 10xelerator columbus angel'"
      ]
     },
     "execution_count": 29,
     "metadata": {},
     "output_type": "execute_result"
    }
   ],
   "execution_count": 29
  },
  {
   "cell_type": "code",
   "metadata": {
    "ExecuteTime": {
     "end_time": "2024-06-22T20:22:34.852681Z",
     "start_time": "2024-06-22T20:22:34.847955Z"
    }
   },
   "source": [
    "df1.columns"
   ],
   "outputs": [
    {
     "data": {
      "text/plain": [
       "Index(['company_name', 'company_category_code', 'company_country_code',\n",
       "       'company_state_code', 'company_region', 'company_city', 'investor_name',\n",
       "       'investor_region', 'funding_round_type', 'metric'],\n",
       "      dtype='object')"
      ]
     },
     "execution_count": 30,
     "metadata": {},
     "output_type": "execute_result"
    }
   ],
   "execution_count": 30
  },
  {
   "cell_type": "code",
   "metadata": {
    "ExecuteTime": {
     "end_time": "2024-06-22T20:22:34.858443Z",
     "start_time": "2024-06-22T20:22:34.853679Z"
    }
   },
   "source": [
    "df2=df1.drop(['company_category_code', 'company_country_code',\n",
    "       'company_state_code', 'company_region', 'company_city', 'investor_name',\n",
    "       'investor_region', 'funding_round_type'],axis=1)"
   ],
   "outputs": [],
   "execution_count": 31
  },
  {
   "cell_type": "code",
   "metadata": {
    "ExecuteTime": {
     "end_time": "2024-06-22T20:22:34.867062Z",
     "start_time": "2024-06-22T20:22:34.859443Z"
    }
   },
   "source": [
    "df2.head()"
   ],
   "outputs": [
    {
     "data": {
      "text/plain": [
       "  company_name                                             metric\n",
       "0     advercar  advertising usa ca sfbay sanfrancisco 1-800-fl...\n",
       "1   launchgram  news usa ca sfbay mountainview 10xelerator col...\n",
       "3     zoopshop  software usa oh columbus columbus 10xelerator ...\n",
       "4     efuneral  web usa oh cleveland cleveland 10xelerator col...\n",
       "5        tackk  web usa oh cleveland cleveland 10xelerator col..."
      ],
      "text/html": [
       "<div>\n",
       "<style scoped>\n",
       "    .dataframe tbody tr th:only-of-type {\n",
       "        vertical-align: middle;\n",
       "    }\n",
       "\n",
       "    .dataframe tbody tr th {\n",
       "        vertical-align: top;\n",
       "    }\n",
       "\n",
       "    .dataframe thead th {\n",
       "        text-align: right;\n",
       "    }\n",
       "</style>\n",
       "<table border=\"1\" class=\"dataframe\">\n",
       "  <thead>\n",
       "    <tr style=\"text-align: right;\">\n",
       "      <th></th>\n",
       "      <th>company_name</th>\n",
       "      <th>metric</th>\n",
       "    </tr>\n",
       "  </thead>\n",
       "  <tbody>\n",
       "    <tr>\n",
       "      <th>0</th>\n",
       "      <td>advercar</td>\n",
       "      <td>advertising usa ca sfbay sanfrancisco 1-800-fl...</td>\n",
       "    </tr>\n",
       "    <tr>\n",
       "      <th>1</th>\n",
       "      <td>launchgram</td>\n",
       "      <td>news usa ca sfbay mountainview 10xelerator col...</td>\n",
       "    </tr>\n",
       "    <tr>\n",
       "      <th>3</th>\n",
       "      <td>zoopshop</td>\n",
       "      <td>software usa oh columbus columbus 10xelerator ...</td>\n",
       "    </tr>\n",
       "    <tr>\n",
       "      <th>4</th>\n",
       "      <td>efuneral</td>\n",
       "      <td>web usa oh cleveland cleveland 10xelerator col...</td>\n",
       "    </tr>\n",
       "    <tr>\n",
       "      <th>5</th>\n",
       "      <td>tackk</td>\n",
       "      <td>web usa oh cleveland cleveland 10xelerator col...</td>\n",
       "    </tr>\n",
       "  </tbody>\n",
       "</table>\n",
       "</div>"
      ]
     },
     "execution_count": 32,
     "metadata": {},
     "output_type": "execute_result"
    }
   ],
   "execution_count": 32
  },
  {
   "cell_type": "code",
   "metadata": {
    "ExecuteTime": {
     "end_time": "2024-06-22T20:22:36.753628Z",
     "start_time": "2024-06-22T20:22:34.868063Z"
    }
   },
   "source": [
    "from sklearn.feature_extraction.text import CountVectorizer"
   ],
   "outputs": [],
   "execution_count": 33
  },
  {
   "cell_type": "code",
   "metadata": {
    "ExecuteTime": {
     "end_time": "2024-06-22T20:22:36.906125Z",
     "start_time": "2024-06-22T20:22:36.754627Z"
    }
   },
   "source": [
    "cv = CountVectorizer(analyzer='word',ngram_range=(1, 2),min_df=0, stop_words='english')\n",
    "cv_matrix = cv.fit_transform(df2['metric'])\n",
    "cv_matrix.shape"
   ],
   "outputs": [
    {
     "data": {
      "text/plain": [
       "(11058, 21004)"
      ]
     },
     "execution_count": 34,
     "metadata": {},
     "output_type": "execute_result"
    }
   ],
   "execution_count": 34
  },
  {
   "cell_type": "code",
   "metadata": {
    "ExecuteTime": {
     "end_time": "2024-06-22T20:22:40.601233Z",
     "start_time": "2024-06-22T20:22:36.907125Z"
    }
   },
   "source": [
    "from sklearn.metrics.pairwise import cosine_similarity\n",
    "cosine_sim = cosine_similarity(cv_matrix, cv_matrix)"
   ],
   "outputs": [],
   "execution_count": 35
  },
  {
   "cell_type": "code",
   "metadata": {
    "ExecuteTime": {
     "end_time": "2024-06-22T20:22:40.616856Z",
     "start_time": "2024-06-22T20:22:40.606219Z"
    }
   },
   "source": [
    "cosine_sim[100]"
   ],
   "outputs": [
    {
     "data": {
      "text/plain": [
       "array([0.22256595, 0.06726728, 0.05292561, ..., 0.52941176, 0.52941176,\n",
       "       0.06262243])"
      ]
     },
     "execution_count": 36,
     "metadata": {},
     "output_type": "execute_result"
    }
   ],
   "execution_count": 36
  },
  {
   "cell_type": "code",
   "metadata": {
    "ExecuteTime": {
     "end_time": "2024-06-22T20:22:40.648712Z",
     "start_time": "2024-06-22T20:22:40.617854Z"
    }
   },
   "source": [
    "df2= df2.reset_index()\n",
    "indices = pd.Series(df2.index, index=df2['company_name'])"
   ],
   "outputs": [],
   "execution_count": 37
  },
  {
   "cell_type": "code",
   "metadata": {
    "ExecuteTime": {
     "end_time": "2024-06-22T20:37:22.224667Z",
     "start_time": "2024-06-22T20:37:22.220690Z"
    }
   },
   "source": [
    "\n",
    "def get_recommendations(company_name):\n",
    "    idx = indices[company_name]\n",
    "    sim_scores = list(enumerate(cosine_sim[idx]))\n",
    "    sim_scores = sorted(sim_scores, key=lambda x: x[1], reverse=True)\n",
    "    sim_scores = sim_scores[1:11]\n",
    "    company_indices = [i[0] for i in sim_scores]\n",
    "    return df['company_name'].iloc[company_indices]"
   ],
   "outputs": [],
   "execution_count": 55
  },
  {
   "cell_type": "code",
   "metadata": {
    "ExecuteTime": {
     "end_time": "2024-06-22T20:37:23.042711Z",
     "start_time": "2024-06-22T20:37:23.032687Z"
    }
   },
   "source": "get_recommendations(\"rennovia\")",
   "outputs": [
    {
     "data": {
      "text/plain": [
       "3763           ceterixorthopaedics\n",
       "3733                       relypsa\n",
       "3736       kalobiospharmaceuticals\n",
       "3748                      achaogen\n",
       "3751                       igenica\n",
       "3752           inclinetherapeutics\n",
       "5055                cruxbiomedical\n",
       "5219     fundamentalappliedbiology\n",
       "5934           coriuminternational\n",
       "11011                      numedii\n",
       "Name: company_name, dtype: object"
      ]
     },
     "execution_count": 56,
     "metadata": {},
     "output_type": "execute_result"
    }
   ],
   "execution_count": 56
  },
  {
   "cell_type": "code",
   "metadata": {
    "ExecuteTime": {
     "end_time": "2024-06-22T20:37:44.394105Z",
     "start_time": "2024-06-22T20:37:44.385001Z"
    }
   },
   "source": "get_recommendations(\"relypsa\")",
   "outputs": [
    {
     "data": {
      "text/plain": [
       "3752        inclinetherapeutics\n",
       "1595                    codexis\n",
       "1785          pearltherapeutics\n",
       "3736    kalobiospharmaceuticals\n",
       "3741                   rennovia\n",
       "3748                   achaogen\n",
       "3751                    igenica\n",
       "3763        ceterixorthopaedics\n",
       "5108               aegeamedical\n",
       "9744        relievantmedsystems\n",
       "Name: company_name, dtype: object"
      ]
     },
     "execution_count": 61,
     "metadata": {},
     "output_type": "execute_result"
    }
   ],
   "execution_count": 61
  },
  {
   "cell_type": "code",
   "metadata": {
    "ExecuteTime": {
     "end_time": "2024-06-22T20:37:37.707089Z",
     "start_time": "2024-06-22T20:37:37.702088Z"
    }
   },
   "source": [
    "df['company_name'][3733]"
   ],
   "outputs": [
    {
     "data": {
      "text/plain": [
       "'relypsa'"
      ]
     },
     "execution_count": 60,
     "metadata": {},
     "output_type": "execute_result"
    }
   ],
   "execution_count": 60
  },
  {
   "cell_type": "code",
   "metadata": {
    "ExecuteTime": {
     "end_time": "2024-06-22T20:22:40.716227Z",
     "start_time": "2024-06-22T20:22:40.710562Z"
    }
   },
   "source": [
    "df['metric'][3733]"
   ],
   "outputs": [
    {
     "data": {
      "text/plain": [
       "'biotech usa ca sfbay redwoodcity 5amventures sfbay series-a'"
      ]
     },
     "execution_count": 42,
     "metadata": {},
     "output_type": "execute_result"
    }
   ],
   "execution_count": 42
  },
  {
   "cell_type": "code",
   "metadata": {
    "ExecuteTime": {
     "end_time": "2024-06-22T20:22:40.722920Z",
     "start_time": "2024-06-22T20:22:40.718221Z"
    }
   },
   "source": [
    "df['company_name'][3752]"
   ],
   "outputs": [
    {
     "data": {
      "text/plain": [
       "'inclinetherapeutics'"
      ]
     },
     "execution_count": 43,
     "metadata": {},
     "output_type": "execute_result"
    }
   ],
   "execution_count": 43
  },
  {
   "cell_type": "code",
   "metadata": {
    "ExecuteTime": {
     "end_time": "2024-06-22T20:22:40.728718Z",
     "start_time": "2024-06-22T20:22:40.723919Z"
    }
   },
   "source": [
    "df['metric'][3752]"
   ],
   "outputs": [
    {
     "data": {
      "text/plain": [
       "'biotech usa ca sfbay redwoodcity 5amventures sfbay series-a'"
      ]
     },
     "execution_count": 44,
     "metadata": {},
     "output_type": "execute_result"
    }
   ],
   "execution_count": 44
  },
  {
   "cell_type": "code",
   "metadata": {
    "ExecuteTime": {
     "end_time": "2024-06-22T20:22:40.735241Z",
     "start_time": "2024-06-22T20:22:40.729718Z"
    }
   },
   "source": [
    "df['company_name'][1785]"
   ],
   "outputs": [
    {
     "data": {
      "text/plain": [
       "'pearltherapeutics'"
      ]
     },
     "execution_count": 45,
     "metadata": {},
     "output_type": "execute_result"
    }
   ],
   "execution_count": 45
  },
  {
   "cell_type": "code",
   "metadata": {
    "ExecuteTime": {
     "end_time": "2024-06-22T20:22:40.741270Z",
     "start_time": "2024-06-22T20:22:40.736758Z"
    }
   },
   "source": [
    "df['metric'][1785]"
   ],
   "outputs": [
    {
     "data": {
      "text/plain": [
       "'biotech usa ca sfbay redwoodcity nektartherapeutics sfbay series-a'"
      ]
     },
     "execution_count": 46,
     "metadata": {},
     "output_type": "execute_result"
    }
   ],
   "execution_count": 46
  },
  {
   "cell_type": "code",
   "metadata": {
    "ExecuteTime": {
     "end_time": "2024-06-22T20:22:40.747282Z",
     "start_time": "2024-06-22T20:22:40.742267Z"
    }
   },
   "source": [
    "df['company_name'][9744]"
   ],
   "outputs": [
    {
     "data": {
      "text/plain": [
       "'relievantmedsystems'"
      ]
     },
     "execution_count": 47,
     "metadata": {},
     "output_type": "execute_result"
    }
   ],
   "execution_count": 47
  },
  {
   "cell_type": "code",
   "metadata": {
    "ExecuteTime": {
     "end_time": "2024-06-22T20:22:40.752814Z",
     "start_time": "2024-06-22T20:22:40.748278Z"
    }
   },
   "source": [
    "df['metric'][9744]"
   ],
   "outputs": [
    {
     "data": {
      "text/plain": [
       "'biotech usa ca sfbay redwoodcity canaanpartners sfbay series-c+'"
      ]
     },
     "execution_count": 48,
     "metadata": {},
     "output_type": "execute_result"
    }
   ],
   "execution_count": 48
  },
  {
   "cell_type": "code",
   "metadata": {
    "ExecuteTime": {
     "end_time": "2024-06-22T20:24:55.961731Z",
     "start_time": "2024-06-22T20:24:53.884522Z"
    }
   },
   "source": [
    "import pickle\n",
    "pickle.dump(df,open('models/data.pkl','wb'))\n",
    "pickle.dump(df2,open('models/data2.pkl','wb'))\n",
    "pickle.dump(cosine_sim,open('models/cosine_sim.pkl','wb'))"
   ],
   "outputs": [],
   "execution_count": 50
  },
  {
   "metadata": {
    "ExecuteTime": {
     "end_time": "2024-06-22T20:24:58.717940Z",
     "start_time": "2024-06-22T20:24:58.695395Z"
    }
   },
   "cell_type": "code",
   "source": [
    "d5= pickle.load(open('models/data.pkl','rb'))\n",
    "pd.DataFrame(d5)"
   ],
   "outputs": [
    {
     "data": {
      "text/plain": [
       "       company_name company_category_code company_country_code  \\\n",
       "0          advercar           advertising                  usa   \n",
       "1        launchgram                  news                  usa   \n",
       "3          zoopshop              software                  usa   \n",
       "4          efuneral                   web                  usa   \n",
       "5             tackk                   web                  usa   \n",
       "...             ...                   ...                  ...   \n",
       "52715  thecultivate             ecommerce                  usa   \n",
       "52746         egood                   web                  usa   \n",
       "52764       yushino           games_video                  usa   \n",
       "52774        seetoo            enterprise                  usa   \n",
       "52817      estimote             analytics                  usa   \n",
       "\n",
       "      company_state_code company_region  company_city      investor_name  \\\n",
       "0                     ca          sfbay  sanfrancisco  1-800-flowers.com   \n",
       "1                     ca          sfbay  mountainview        10xelerator   \n",
       "3                     oh       columbus      columbus        10xelerator   \n",
       "4                     oh      cleveland     cleveland        10xelerator   \n",
       "5                     oh      cleveland     cleveland        10xelerator   \n",
       "...                  ...            ...           ...                ...   \n",
       "52715                 ny        newyork       newyork     williamlacalle   \n",
       "52746                 ca     losangeles      glendora    wolfgangbuehler   \n",
       "52764                 ny        newyork       newyork    yiannistsiounis   \n",
       "52774                 ny        newyork       newyork         yossivardi   \n",
       "52817                 ca     losangeles        walnut         yurimilner   \n",
       "\n",
       "      investor_region funding_round_type  \\\n",
       "0             newyork           series-a   \n",
       "1            columbus              other   \n",
       "3            columbus              angel   \n",
       "4            columbus              other   \n",
       "5            columbus              other   \n",
       "...               ...                ...   \n",
       "52715         unknown              angel   \n",
       "52746         unknown           series-a   \n",
       "52764         unknown              angel   \n",
       "52774         unknown              angel   \n",
       "52817         unknown              angel   \n",
       "\n",
       "                                                  metric  \n",
       "0      advertising usa ca sfbay sanfrancisco 1-800-fl...  \n",
       "1      news usa ca sfbay mountainview 10xelerator col...  \n",
       "3      software usa oh columbus columbus 10xelerator ...  \n",
       "4      web usa oh cleveland cleveland 10xelerator col...  \n",
       "5      web usa oh cleveland cleveland 10xelerator col...  \n",
       "...                                                  ...  \n",
       "52715  ecommerce usa ny newyork newyork williamlacall...  \n",
       "52746  web usa ca losangeles glendora wolfgangbuehler...  \n",
       "52764  games_video usa ny newyork newyork yiannistsio...  \n",
       "52774  enterprise usa ny newyork newyork yossivardi u...  \n",
       "52817  analytics usa ca losangeles walnut yurimilner ...  \n",
       "\n",
       "[11058 rows x 10 columns]"
      ],
      "text/html": [
       "<div>\n",
       "<style scoped>\n",
       "    .dataframe tbody tr th:only-of-type {\n",
       "        vertical-align: middle;\n",
       "    }\n",
       "\n",
       "    .dataframe tbody tr th {\n",
       "        vertical-align: top;\n",
       "    }\n",
       "\n",
       "    .dataframe thead th {\n",
       "        text-align: right;\n",
       "    }\n",
       "</style>\n",
       "<table border=\"1\" class=\"dataframe\">\n",
       "  <thead>\n",
       "    <tr style=\"text-align: right;\">\n",
       "      <th></th>\n",
       "      <th>company_name</th>\n",
       "      <th>company_category_code</th>\n",
       "      <th>company_country_code</th>\n",
       "      <th>company_state_code</th>\n",
       "      <th>company_region</th>\n",
       "      <th>company_city</th>\n",
       "      <th>investor_name</th>\n",
       "      <th>investor_region</th>\n",
       "      <th>funding_round_type</th>\n",
       "      <th>metric</th>\n",
       "    </tr>\n",
       "  </thead>\n",
       "  <tbody>\n",
       "    <tr>\n",
       "      <th>0</th>\n",
       "      <td>advercar</td>\n",
       "      <td>advertising</td>\n",
       "      <td>usa</td>\n",
       "      <td>ca</td>\n",
       "      <td>sfbay</td>\n",
       "      <td>sanfrancisco</td>\n",
       "      <td>1-800-flowers.com</td>\n",
       "      <td>newyork</td>\n",
       "      <td>series-a</td>\n",
       "      <td>advertising usa ca sfbay sanfrancisco 1-800-fl...</td>\n",
       "    </tr>\n",
       "    <tr>\n",
       "      <th>1</th>\n",
       "      <td>launchgram</td>\n",
       "      <td>news</td>\n",
       "      <td>usa</td>\n",
       "      <td>ca</td>\n",
       "      <td>sfbay</td>\n",
       "      <td>mountainview</td>\n",
       "      <td>10xelerator</td>\n",
       "      <td>columbus</td>\n",
       "      <td>other</td>\n",
       "      <td>news usa ca sfbay mountainview 10xelerator col...</td>\n",
       "    </tr>\n",
       "    <tr>\n",
       "      <th>3</th>\n",
       "      <td>zoopshop</td>\n",
       "      <td>software</td>\n",
       "      <td>usa</td>\n",
       "      <td>oh</td>\n",
       "      <td>columbus</td>\n",
       "      <td>columbus</td>\n",
       "      <td>10xelerator</td>\n",
       "      <td>columbus</td>\n",
       "      <td>angel</td>\n",
       "      <td>software usa oh columbus columbus 10xelerator ...</td>\n",
       "    </tr>\n",
       "    <tr>\n",
       "      <th>4</th>\n",
       "      <td>efuneral</td>\n",
       "      <td>web</td>\n",
       "      <td>usa</td>\n",
       "      <td>oh</td>\n",
       "      <td>cleveland</td>\n",
       "      <td>cleveland</td>\n",
       "      <td>10xelerator</td>\n",
       "      <td>columbus</td>\n",
       "      <td>other</td>\n",
       "      <td>web usa oh cleveland cleveland 10xelerator col...</td>\n",
       "    </tr>\n",
       "    <tr>\n",
       "      <th>5</th>\n",
       "      <td>tackk</td>\n",
       "      <td>web</td>\n",
       "      <td>usa</td>\n",
       "      <td>oh</td>\n",
       "      <td>cleveland</td>\n",
       "      <td>cleveland</td>\n",
       "      <td>10xelerator</td>\n",
       "      <td>columbus</td>\n",
       "      <td>other</td>\n",
       "      <td>web usa oh cleveland cleveland 10xelerator col...</td>\n",
       "    </tr>\n",
       "    <tr>\n",
       "      <th>...</th>\n",
       "      <td>...</td>\n",
       "      <td>...</td>\n",
       "      <td>...</td>\n",
       "      <td>...</td>\n",
       "      <td>...</td>\n",
       "      <td>...</td>\n",
       "      <td>...</td>\n",
       "      <td>...</td>\n",
       "      <td>...</td>\n",
       "      <td>...</td>\n",
       "    </tr>\n",
       "    <tr>\n",
       "      <th>52715</th>\n",
       "      <td>thecultivate</td>\n",
       "      <td>ecommerce</td>\n",
       "      <td>usa</td>\n",
       "      <td>ny</td>\n",
       "      <td>newyork</td>\n",
       "      <td>newyork</td>\n",
       "      <td>williamlacalle</td>\n",
       "      <td>unknown</td>\n",
       "      <td>angel</td>\n",
       "      <td>ecommerce usa ny newyork newyork williamlacall...</td>\n",
       "    </tr>\n",
       "    <tr>\n",
       "      <th>52746</th>\n",
       "      <td>egood</td>\n",
       "      <td>web</td>\n",
       "      <td>usa</td>\n",
       "      <td>ca</td>\n",
       "      <td>losangeles</td>\n",
       "      <td>glendora</td>\n",
       "      <td>wolfgangbuehler</td>\n",
       "      <td>unknown</td>\n",
       "      <td>series-a</td>\n",
       "      <td>web usa ca losangeles glendora wolfgangbuehler...</td>\n",
       "    </tr>\n",
       "    <tr>\n",
       "      <th>52764</th>\n",
       "      <td>yushino</td>\n",
       "      <td>games_video</td>\n",
       "      <td>usa</td>\n",
       "      <td>ny</td>\n",
       "      <td>newyork</td>\n",
       "      <td>newyork</td>\n",
       "      <td>yiannistsiounis</td>\n",
       "      <td>unknown</td>\n",
       "      <td>angel</td>\n",
       "      <td>games_video usa ny newyork newyork yiannistsio...</td>\n",
       "    </tr>\n",
       "    <tr>\n",
       "      <th>52774</th>\n",
       "      <td>seetoo</td>\n",
       "      <td>enterprise</td>\n",
       "      <td>usa</td>\n",
       "      <td>ny</td>\n",
       "      <td>newyork</td>\n",
       "      <td>newyork</td>\n",
       "      <td>yossivardi</td>\n",
       "      <td>unknown</td>\n",
       "      <td>angel</td>\n",
       "      <td>enterprise usa ny newyork newyork yossivardi u...</td>\n",
       "    </tr>\n",
       "    <tr>\n",
       "      <th>52817</th>\n",
       "      <td>estimote</td>\n",
       "      <td>analytics</td>\n",
       "      <td>usa</td>\n",
       "      <td>ca</td>\n",
       "      <td>losangeles</td>\n",
       "      <td>walnut</td>\n",
       "      <td>yurimilner</td>\n",
       "      <td>unknown</td>\n",
       "      <td>angel</td>\n",
       "      <td>analytics usa ca losangeles walnut yurimilner ...</td>\n",
       "    </tr>\n",
       "  </tbody>\n",
       "</table>\n",
       "<p>11058 rows × 10 columns</p>\n",
       "</div>"
      ]
     },
     "execution_count": 51,
     "metadata": {},
     "output_type": "execute_result"
    }
   ],
   "execution_count": 51
  },
  {
   "metadata": {},
   "cell_type": "code",
   "outputs": [],
   "execution_count": null,
   "source": ""
  }
 ],
 "metadata": {
  "colab": {
   "name": "Final_Shit",
   "provenance": [],
   "version": "0.3.2"
  },
  "kernelspec": {
   "display_name": "Python 3 (ipykernel)",
   "language": "python",
   "name": "python3"
  },
  "language_info": {
   "codemirror_mode": {
    "name": "ipython",
    "version": 3
   },
   "file_extension": ".py",
   "mimetype": "text/x-python",
   "name": "python",
   "nbconvert_exporter": "python",
   "pygments_lexer": "ipython3",
   "version": "3.11.7"
  }
 },
 "nbformat": 4,
 "nbformat_minor": 1
}
